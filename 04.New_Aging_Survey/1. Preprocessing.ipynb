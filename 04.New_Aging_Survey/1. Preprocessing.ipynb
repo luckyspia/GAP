{
 "cells": [
  {
   "cell_type": "markdown",
   "metadata": {},
   "source": [
    "## import Library"
   ]
  },
  {
   "cell_type": "code",
   "execution_count": 6,
   "metadata": {},
   "outputs": [],
   "source": [
    "import pandas as pd\n",
    "import numpy as np\n",
    "import matplotlib.pyplot as plt\n",
    "import seaborn as sns\n",
    "from matplotlib import font_manager\n",
    "%matplotlib inline\n",
    "import os\n",
    "import warnings\n",
    "import glob\n",
    "warnings.filterwarnings('ignore')\n",
    "\n",
    "font_fname = 'C:/Windows/Fonts/malgun.ttf'\n",
    "font_family = font_manager.FontProperties(fname=font_fname).get_name()\n",
    "plt.rcParams[\"font.family\"] = font_family"
   ]
  },
  {
   "cell_type": "markdown",
   "metadata": {},
   "source": [
    "#### Data Load"
   ]
  },
  {
   "cell_type": "code",
   "execution_count": 7,
   "metadata": {},
   "outputs": [],
   "source": [
    "# path = './data/'\n",
    "# filenames = os.listdir('./data')\n",
    "data_lst = []\n",
    "\n",
    "path = os.path.abspath('data')\n",
    "all_files = glob.glob(path + \"\\Lt*.csv\")\n",
    "\n",
    "for file in all_files:\n",
    "    var_name = file[41:-4]\n",
    "    globals()[f'{var_name}'] = pd.read_csv(file, low_memory=False)\n",
    "    data_lst.append(globals()[f'{var_name}'])"
   ]
  },
  {
   "cell_type": "markdown",
   "metadata": {},
   "source": [
    "#### Data Preprocessing"
   ]
  },
  {
   "cell_type": "code",
   "execution_count": 8,
   "metadata": {},
   "outputs": [],
   "source": [
    "New_elder = Lt08[(Lt08['w08A002y'] >= 1957) & (Lt08['w08A002y'] < 1962)]"
   ]
  },
  {
   "cell_type": "code",
   "execution_count": 9,
   "metadata": {},
   "outputs": [],
   "source": [
    "# present_ecotype; 현재 경활상태 (1: 취업자, 2: 실업자, 3: 비경활)\n",
    "# retired; 은퇴 및 부분은퇴 (0: 노동시장 비참여자, 1: 은퇴, 2: 부분은퇴)\n",
    "# job; 직업분류 (1: 관리자, 2: 전문가, 3: 사무직, 4: 서비스근로자, 5: 판매근로자, 6: 농임업 및 어업 숙련근로자, 7: 기능원, 8: 기계 관련 종사자, 9: 단순 노무, -9: 직업군인)\n",
    "# emp; 임금, 자영업, 무급가족 구분 (1: 임금, 2: 자영업, 3: 무급가족 종사자, 4: 일하지 않음)\n",
    "New_elder['Job'] = np.where(New_elder['w08present_ecotype'] == 3, '비경활',\n",
    "                           np.where(New_elder['w08retired'].isin([1.0, 2.0]), '은퇴',\n",
    "                                np.where(New_elder['w08job'].isin([1.0, 2.0]), '임금_고숙련',\n",
    "                                        np.where(New_elder['w08job'].isin([3.0, 6.0, 7.0, 8.0, 9.0]), '임금_중숙련',\n",
    "                                                np.where(New_elder['w08job'].isin([4.0, 5.0, 9.0]), '임금_저숙련',\n",
    "                                                        np.where(New_elder['w08emp'] == 2.0, '자영업',\n",
    "                                                                np.where(New_elder['w08emp'] == 3.0, '무급가족종사자', np.nan)))))))"
   ]
  },
  {
   "cell_type": "code",
   "execution_count": 10,
   "metadata": {},
   "outputs": [],
   "source": [
    "# edu; 응답자 학력 (4: 초등, 3: 중등, 2: 고등, 1: 대학교 이상)\n",
    "New_elder['Edu'] = np.where(New_elder['w08edu'] == 1, '대학교 이상',\n",
    "                           np.where(New_elder['w08edu'] == 2, '고등',\n",
    "                                   np.where(New_elder['w08edu'] == 3, '중등', '초등')))"
   ]
  },
  {
   "cell_type": "code",
   "execution_count": 11,
   "metadata": {
    "scrolled": true
   },
   "outputs": [],
   "source": [
    "# C005; 건강 상태로 인한 일하는데의 지장 (1 매우 그렇다 ~ 4 전혀 그렇지 않다)\n",
    "New_elder['Health'] = np.where(New_elder['w08C005'].isin([1,2]), '활동에 제한 있음',\n",
    "                              np.where(New_elder['w08C005'] == 3,'그렇지 않은 편', '전혀 지장 없음'))"
   ]
  },
  {
   "cell_type": "code",
   "execution_count": 12,
   "metadata": {},
   "outputs": [],
   "source": [
    "# hhinc ; 가구총소득, hhsize; 가구원수 \n",
    "New_elder['Earn_Score'] = New_elder['w08hhinc'] / np.sqrt(New_elder['w08hhsize'])\n",
    "New_elder['Earn'] = pd.qcut(New_elder['Earn_Score'], 3, labels=['하', '중', '상'])"
   ]
  },
  {
   "cell_type": "code",
   "execution_count": 13,
   "metadata": {},
   "outputs": [],
   "source": [
    "# G026; 자신의 건강상태, G027; 자신의 경제상태, G028; 배우자와의 관계, G029; 자녀와의 관계, G030; 전반적인 삶의 질 (0~100 Score)\n",
    "New_elder['Self_conf_Score'] = New_elder['w08G026'] + New_elder['w08G027'] + New_elder['w08G028'] + New_elder['w08G029'] + New_elder['w08G030']\n",
    "New_elder['Self_conf'] = np.where(New_elder['Self_conf_Score'] > 350, '상',\n",
    "                                 np.where(New_elder['Self_conf_Score'] < 200, '하', '중'))"
   ]
  },
  {
   "cell_type": "code",
   "execution_count": 14,
   "metadata": {
    "scrolled": true
   },
   "outputs": [],
   "source": [
    "New_elder = New_elder[['Job', 'Edu', 'Health', 'Earn', 'Self_conf']]"
   ]
  },
  {
   "cell_type": "code",
   "execution_count": 15,
   "metadata": {},
   "outputs": [],
   "source": [
    "def preprocessing(data, period):\n",
    "    # data = data[(data[f'w{period}A002_age'] >= 60) & (data[f'w{period}A002_age'] < 65)]\n",
    "    data['Earn_Score'] = data[f'w{period}hhinc'] / np.sqrt(data[f'w{period}hhsize'])\n",
    "\n",
    "    data['Earn'] = pd.qcut(data['Earn_Score'], 3, labels=['하', '중', '상'])\n",
    "\n",
    "    index = data[data.Earn.isna()==True].index\n",
    "    data.drop(index, inplace=True)\n",
    "    \n",
    "    data = data[(data[f'w{period}A002y'] >= 1955) & (data[f'w{period}A002y'] < 1964)]\n",
    "    data['Gender'] = np.where(data[f'w{period}gender1'] == 1, '남성', '여성')\n",
    "    \n",
    "    data['Job'] = np.where(data[f'w{period}present_ecotype'] == 3, '비경활',\n",
    "                           np.where(data[f'w{period}retired'].isin([1.0, 2.0]), '은퇴',\n",
    "                                np.where(data[f'w{period}job'].isin([1.0, 2.0]), '임금_고숙련',\n",
    "                                        np.where(data[f'w{period}job'].isin([3.0, 6.0, 7.0, 8.0, -9.0]), '임금_중숙련',\n",
    "                                                np.where(data[f'w{period}job'].isin([4.0, 5.0, 9.0]), '임금_저숙련',\n",
    "                                                        np.where(data[f'w{period}emp'] == 2.0, '자영업', '무급가족종사자'))))))\n",
    "    data['Edu'] = np.where(data[f'w{period}edu'] == 1, '대학교 이상',\n",
    "                           np.where(data[f'w{period}edu'] == 2, '고등',\n",
    "                                   np.where(data[f'w{period}edu'] == 3, '중등', '초등')))\n",
    "\n",
    "    data['Health'] = np.where(data[f'w{period}C005'].isin([1,2]), '활동에 제한 있음',\n",
    "                              np.where(data[f'w{period}C005'] == 3,'그렇지 않은 편', '전혀 지장 없음'))\n",
    "\n",
    "    data['Self_conf_Score'] = data[f'w{period}G026'] + data[f'w{period}G027'] + data[f'w{period}G028'] + data[f'w{period}G029'] + data[f'w{period}G030']\n",
    "\n",
    "    data['Self_conf'] = np.where(data['Self_conf_Score'] > 350, '상',\n",
    "                                 np.where(data['Self_conf_Score'] < 200, '하', '중'))\n",
    "    \n",
    "    data = data[['Gender','Job', 'Edu', 'Health', 'Earn', 'Self_conf']]\n",
    "    data.reset_index(drop=True, inplace=True)\n",
    "    return data"
   ]
  },
  {
   "cell_type": "code",
   "execution_count": 16,
   "metadata": {},
   "outputs": [],
   "source": [
    "def to_int(data):\n",
    "    data['Gender'] = np.where(data['Gender'] == '남성', 0, 1)\n",
    "    data['Job']  = np.where(data['Job'] == '비경활', 0,\n",
    "                    np.where(data['Job'] == '은퇴', 1,\n",
    "                            np.where(data['Job'] == '임금_고숙련', 4,\n",
    "                                np.where(data['Job'] == '임금_중숙련', 3,\n",
    "                                    np.where(data['Job'] == '임금_저숙련', 2,\n",
    "                                        np.where(data['Job'] == '자영업', 5, 6))))))\n",
    "    data['Edu'] = np.where(data['Edu'] == '초등', 0,\n",
    "                    np.where(data['Edu'] == '중등', 1,\n",
    "                        np.where(data['Edu'] == '고등', 2, 3)))\n",
    "    data['Health'] = np.where(data['Health'] == '활동에 제한 있음', 0,\n",
    "                        np.where(data['Health'] == '그렇지 않은 편', 1, 2))\n",
    "    data['Earn'] = np.where(data['Earn'] == '하', 0,\n",
    "                    np.where(data['Earn'] == '중', 1, 2))\n",
    "    data['Self_conf'] = np.where(data['Self_conf'] == '하', 0,\n",
    "                            np.where(data['Self_conf'] == '중', 1, 2))\n",
    "    return data"
   ]
  },
  {
   "cell_type": "code",
   "execution_count": 17,
   "metadata": {},
   "outputs": [],
   "source": [
    "# for idx, df in enumerate(data_lst):\n",
    "#    globals()['data_{}'.format(idx+1)] = preprocessing(df, '0'+str(idx+1))\n",
    "data =preprocessing(Lt08, '08')"
   ]
  },
  {
   "cell_type": "code",
   "execution_count": 18,
   "metadata": {},
   "outputs": [],
   "source": [
    "# aft_lst = [data_1, data_2, data_3, data_4, data_5, data_6, data_7, data_8]\n",
    "# for idx, data in enumerate(aft_lst):\n",
    "#     data.to_csv(f'./data/data_{idx}.csv', encoding='utf-8', index=False)\n",
    "data.to_csv('./data/data_08.csv', encoding='utf-8', index=False)"
   ]
  }
 ],
 "metadata": {
  "interpreter": {
   "hash": "68756eb6c044f31c46e3e1f38723aea1f0146198488dd3d60c0e4241eb6f7dd0"
  },
  "kernelspec": {
   "display_name": "Python 3 (ipykernel)",
   "language": "python",
   "name": "python3"
  },
  "language_info": {
   "codemirror_mode": {
    "name": "ipython",
    "version": 3
   },
   "file_extension": ".py",
   "mimetype": "text/x-python",
   "name": "python",
   "nbconvert_exporter": "python",
   "pygments_lexer": "ipython3",
   "version": "3.9.12"
  }
 },
 "nbformat": 4,
 "nbformat_minor": 2
}
