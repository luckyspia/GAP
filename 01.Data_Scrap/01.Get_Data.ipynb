{
 "cells": [
  {
   "cell_type": "markdown",
   "metadata": {},
   "source": [
    "## 노인일자리 여기"
   ]
  },
  {
   "cell_type": "code",
   "execution_count": 1,
   "metadata": {},
   "outputs": [],
   "source": [
    "import requests\n",
    "from bs4 import BeautifulSoup as bs\n",
    "import pandas as pd\n",
    "from tqdm import tqdm\n",
    "from selenium.webdriver import Chrome\n",
    "from selenium.webdriver.common.keys import Keys\n",
    "from selenium.webdriver.common.by import By\n",
    "import time\n",
    "import numpy as np"
   ]
  },
  {
   "cell_type": "code",
   "execution_count": 2,
   "metadata": {},
   "outputs": [],
   "source": [
    "# https://www.tripadvisor.co.kr/Attractions-g297888-Activities-a_allAttractions.true-Gyeongju_Gyeongsangbuk_do.html\n",
    "url = 'https://www.seniorro.or.kr:4431/seniorro/main/organization.do'"
   ]
  },
  {
   "cell_type": "code",
   "execution_count": 3,
   "metadata": {},
   "outputs": [],
   "source": [
    "browser = Chrome()\n",
    "browser.get(url)"
   ]
  },
  {
   "cell_type": "code",
   "execution_count": 4,
   "metadata": {},
   "outputs": [
    {
     "name": "stdout",
     "output_type": "stream",
     "text": [
      "['서울', '강원', '경기', '경남', '경북', '광주', '대구', '대전', '부산', '울산', '인천', '전남', '전북', '제주', '충남', '충북', '세종']\n"
     ]
    }
   ],
   "source": [
    "reg_html = bs(browser.page_source, \"html.parser\")\n",
    "reg_soup=reg_html.find('select',id=\"areaTotCd\")       # 대분류 건수 확인\n",
    "reg_opt=reg_soup.find_all('option')\n",
    "\n",
    "reg_name=[reg_opt[i].text for i in range(1, len(reg_opt))]\n",
    "print(reg_name)"
   ]
  },
  {
   "cell_type": "code",
   "execution_count": 5,
   "metadata": {},
   "outputs": [],
   "source": [
    "region_loc = browser.find_element(By.ID,'areaTotCd')"
   ]
  },
  {
   "cell_type": "code",
   "execution_count": 6,
   "metadata": {},
   "outputs": [],
   "source": [
    "region_loc.send_keys('서울')"
   ]
  },
  {
   "cell_type": "code",
   "execution_count": null,
   "metadata": {},
   "outputs": [],
   "source": [
    "for reg in reg_name:\n",
    "    region_loc.send_keys(reg)"
   ]
  },
  {
   "cell_type": "code",
   "execution_count": 7,
   "metadata": {},
   "outputs": [],
   "source": [
    "search_btn = browser.find_element(By.XPATH,'//*[@id=\"orgSearchBtn\"]')\n",
    "search_btn.send_keys(Keys.ENTER)"
   ]
  },
  {
   "cell_type": "code",
   "execution_count": 4,
   "metadata": {},
   "outputs": [],
   "source": [
    "sido = []\n",
    "sigungu = []\n",
    "name = []\n",
    "addr = []\n",
    "\n",
    "regions = browser.find_elements(By.TAG_NAME,'tr')[1:]\n",
    "for region in regions:\n",
    "    sido.append(region.text.split()[0])\n",
    "    sigungu.append(region.text.split()[1])\n",
    "\n",
    "names = browser.find_elements(By.CLASS_NAME,\"txt-l\")\n",
    "for i in range(1, 11):\n",
    "    if i == 1:\n",
    "        name.append(names[i].text)\n",
    "        addr.append(names[i+1].text)\n",
    "    else:\n",
    "        name.append(names[i + (i-1)].text)\n",
    "        addr.append(names[i*2].text)"
   ]
  },
  {
   "cell_type": "code",
   "execution_count": 5,
   "metadata": {},
   "outputs": [
    {
     "data": {
      "text/plain": [
       "27"
      ]
     },
     "execution_count": 5,
     "metadata": {},
     "output_type": "execute_result"
    }
   ],
   "source": [
    "len(browser.find_elements(By.TAG_NAME,'li'))"
   ]
  },
  {
   "cell_type": "code",
   "execution_count": 8,
   "metadata": {},
   "outputs": [],
   "source": [
    "browser.find_element(By.CLASS_NAME,\"pagingNum\").find_elements(By.TAG_NAME,'li')[2:][:-2][2].click()"
   ]
  },
  {
   "cell_type": "code",
   "execution_count": 22,
   "metadata": {},
   "outputs": [],
   "source": [
    "import time\n",
    "sido = []\n",
    "sigungu = []\n",
    "name = []\n",
    "addr = []"
   ]
  },
  {
   "cell_type": "code",
   "execution_count": 66,
   "metadata": {},
   "outputs": [],
   "source": [
    "while True:\n",
    "    if len(browser.find_element(By.CLASS_NAME,\"pagingNum\").find_elements(By.TAG_NAME,'li')[2:][:-2]) == 10:\n",
    "        for i in range(0, 10):\n",
    "            btn = browser.find_element(By.CLASS_NAME,\"pagingNum\").find_elements(By.TAG_NAME,'li')[2:][:-2][i]\n",
    "            time.sleep(2)\n",
    "            btn.click()\n",
    "\n",
    "            regions = browser.find_elements(By.TAG_NAME,'tr')[1:]\n",
    "            for region in regions:\n",
    "                sido.append(region.text.split()[0])\n",
    "                sigungu.append(region.text.split()[1])\n",
    "\n",
    "            names = browser.find_elements(By.CLASS_NAME,\"txt-l\")\n",
    "            for i in range(1, 11):\n",
    "                if i == 1:\n",
    "                    name.append(names[i].text)\n",
    "                    addr.append(names[i+1].text)\n",
    "                else:\n",
    "                    name.append(names[i + (i-1)].text)\n",
    "                    addr.append(names[i*2].text)\n",
    "        browser.find_element(By.CLASS_NAME,\"pagingNum\").find_elements(By.TAG_NAME,'li')[2:][:-1][-1].click()\n",
    "\n",
    "    else:\n",
    "        for i in range(len(browser.find_element(By.CLASS_NAME,\"pagingNum\").find_elements(By.TAG_NAME,'li')[2:][:-2])):\n",
    "            btn = browser.find_element(By.CLASS_NAME,\"pagingNum\").find_elements(By.TAG_NAME,'li')[2:][:-2][i]\n",
    "            time.sleep(2)\n",
    "            btn.click()\n",
    "\n",
    "            regions = browser.find_elements(By.TAG_NAME,'tr')[1:]\n",
    "            for region in regions:\n",
    "                sido.append(region.text.split()[0])\n",
    "                sigungu.append(region.text.split()[1])\n",
    "\n",
    "            names = browser.find_elements(By.CLASS_NAME,\"txt-l\")\n",
    "            for i in range(1, 11):\n",
    "                try:\n",
    "                    if i == 1:\n",
    "                        name.append(names[i].text)\n",
    "                        addr.append(names[i+1].text)\n",
    "                    else:\n",
    "                        name.append(names[i + (i-1)].text)\n",
    "                        addr.append(names[i*2].text)\n",
    "                except:\n",
    "                    pass\n",
    "        break"
   ]
  },
  {
   "cell_type": "code",
   "execution_count": 70,
   "metadata": {},
   "outputs": [],
   "source": [
    "for i in range(len(browser.find_element(By.CLASS_NAME,\"pagingNum\").find_elements(By.TAG_NAME,'li'))):\n",
    "    btn = browser.find_element(By.CLASS_NAME,\"pagingNum\").find_elements(By.TAG_NAME,'li')[i]\n",
    "    time.sleep(2)\n",
    "    btn.click()\n",
    "\n",
    "    regions = browser.find_elements(By.TAG_NAME,'tr')[1:]\n",
    "    for region in regions:\n",
    "        sido.append(region.text.split()[0])\n",
    "        sigungu.append(region.text.split()[1])\n",
    "\n",
    "    names = browser.find_elements(By.CLASS_NAME,\"txt-l\")\n",
    "    for i in range(1, 11):\n",
    "        try:\n",
    "            if i == 1:\n",
    "                name.append(names[i].text)\n",
    "                addr.append(names[i+1].text)\n",
    "            else:\n",
    "                name.append(names[i + (i-1)].text)\n",
    "                addr.append(names[i*2].text)\n",
    "        except:\n",
    "            pass"
   ]
  },
  {
   "cell_type": "code",
   "execution_count": 75,
   "metadata": {},
   "outputs": [],
   "source": [
    "browser.quit()"
   ]
  },
  {
   "cell_type": "code",
   "execution_count": 71,
   "metadata": {},
   "outputs": [
    {
     "data": {
      "text/plain": [
       "(1460, 1460, 1460, 1460)"
      ]
     },
     "execution_count": 71,
     "metadata": {},
     "output_type": "execute_result"
    }
   ],
   "source": [
    "len(sido), len(sigungu), len(name), len(addr)"
   ]
  },
  {
   "cell_type": "code",
   "execution_count": 73,
   "metadata": {},
   "outputs": [],
   "source": [
    "data = pd.DataFrame({\n",
    "    '시/도':sido,\n",
    "    '시/군/구':sigungu,\n",
    "    '기관명':name,\n",
    "    '주소':addr\n",
    "})"
   ]
  },
  {
   "cell_type": "code",
   "execution_count": 74,
   "metadata": {},
   "outputs": [],
   "source": [
    "data.to_csv('./data/jobs_table.csv',index=False, encoding='utf-8')"
   ]
  },
  {
   "cell_type": "code",
   "execution_count": 81,
   "metadata": {},
   "outputs": [
    {
     "data": {
      "text/plain": [
       "17"
      ]
     },
     "execution_count": 81,
     "metadata": {},
     "output_type": "execute_result"
    }
   ],
   "source": [
    "len(list(set(sido)))"
   ]
  },
  {
   "cell_type": "code",
   "execution_count": 80,
   "metadata": {},
   "outputs": [
    {
     "data": {
      "text/plain": [
       "208"
      ]
     },
     "execution_count": 80,
     "metadata": {},
     "output_type": "execute_result"
    }
   ],
   "source": [
    "len(list(set(sigungu)))"
   ]
  },
  {
   "cell_type": "code",
   "execution_count": null,
   "metadata": {},
   "outputs": [],
   "source": []
  }
 ],
 "metadata": {
  "interpreter": {
   "hash": "7d8033f6c2facdf0c540ae24185783756312e465f81bc1a6a1c85e47e304566e"
  },
  "kernelspec": {
   "display_name": "Python 3 (ipykernel)",
   "language": "python",
   "name": "python3"
  },
  "language_info": {
   "codemirror_mode": {
    "name": "ipython",
    "version": 3
   },
   "file_extension": ".py",
   "mimetype": "text/x-python",
   "name": "python",
   "nbconvert_exporter": "python",
   "pygments_lexer": "ipython3",
   "version": "3.9.12"
  }
 },
 "nbformat": 4,
 "nbformat_minor": 2
}
