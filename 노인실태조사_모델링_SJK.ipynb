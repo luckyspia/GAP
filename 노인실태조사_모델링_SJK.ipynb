{
  "nbformat": 4,
  "nbformat_minor": 0,
  "metadata": {
    "colab": {
      "name": "노인실태조사_모델링_SJK.ipynb",
      "provenance": [],
      "collapsed_sections": []
    },
    "kernelspec": {
      "name": "python3",
      "display_name": "Python 3"
    },
    "language_info": {
      "name": "python"
    }
  },
  "cells": [
    {
      "cell_type": "code",
      "execution_count": 4,
      "metadata": {
        "id": "f1rk6yzl1oaF"
      },
      "outputs": [],
      "source": [
        "import pandas as pd\n",
        "import numpy as np\n",
        "from sklearn.model_selection import train_test_split\n",
        "import lightgbm as lgb\n",
        "\n",
        "import warnings\n",
        "warnings.filterwarnings('ignore')"
      ]
    },
    {
      "cell_type": "code",
      "source": [
        "df = pd.read_csv('./processed_df.csv')\n",
        "display(df.head())\n",
        "df.info()"
      ],
      "metadata": {
        "colab": {
          "base_uri": "https://localhost:8080/",
          "height": 510
        },
        "id": "4BzUkAEi1t7x",
        "outputId": "09ecef9d-97b9-417e-c3a3-1b7bacb42acc"
      },
      "execution_count": 5,
      "outputs": [
        {
          "output_type": "display_data",
          "data": {
            "text/plain": [
              "   연령  종교   직업  혼인상태  교육수준  건강상태  전체 만족도  소득수준  활동성  target\n",
              "0  67   1  3.0     1     3     0       1     2    1       1\n",
              "1  68   2  2.0     3     4     0       1     2    1       1\n",
              "2  66   3  1.0     1     2     0       2     3    0       1\n",
              "3  68   3  3.0     3     4     0       1     2    1       3\n",
              "4  73   3  6.0     3     4     0       1     2    0       1"
            ],
            "text/html": [
              "\n",
              "  <div id=\"df-636ae766-f6be-4a84-9e87-6c08176b9d10\">\n",
              "    <div class=\"colab-df-container\">\n",
              "      <div>\n",
              "<style scoped>\n",
              "    .dataframe tbody tr th:only-of-type {\n",
              "        vertical-align: middle;\n",
              "    }\n",
              "\n",
              "    .dataframe tbody tr th {\n",
              "        vertical-align: top;\n",
              "    }\n",
              "\n",
              "    .dataframe thead th {\n",
              "        text-align: right;\n",
              "    }\n",
              "</style>\n",
              "<table border=\"1\" class=\"dataframe\">\n",
              "  <thead>\n",
              "    <tr style=\"text-align: right;\">\n",
              "      <th></th>\n",
              "      <th>연령</th>\n",
              "      <th>종교</th>\n",
              "      <th>직업</th>\n",
              "      <th>혼인상태</th>\n",
              "      <th>교육수준</th>\n",
              "      <th>건강상태</th>\n",
              "      <th>전체 만족도</th>\n",
              "      <th>소득수준</th>\n",
              "      <th>활동성</th>\n",
              "      <th>target</th>\n",
              "    </tr>\n",
              "  </thead>\n",
              "  <tbody>\n",
              "    <tr>\n",
              "      <th>0</th>\n",
              "      <td>67</td>\n",
              "      <td>1</td>\n",
              "      <td>3.0</td>\n",
              "      <td>1</td>\n",
              "      <td>3</td>\n",
              "      <td>0</td>\n",
              "      <td>1</td>\n",
              "      <td>2</td>\n",
              "      <td>1</td>\n",
              "      <td>1</td>\n",
              "    </tr>\n",
              "    <tr>\n",
              "      <th>1</th>\n",
              "      <td>68</td>\n",
              "      <td>2</td>\n",
              "      <td>2.0</td>\n",
              "      <td>3</td>\n",
              "      <td>4</td>\n",
              "      <td>0</td>\n",
              "      <td>1</td>\n",
              "      <td>2</td>\n",
              "      <td>1</td>\n",
              "      <td>1</td>\n",
              "    </tr>\n",
              "    <tr>\n",
              "      <th>2</th>\n",
              "      <td>66</td>\n",
              "      <td>3</td>\n",
              "      <td>1.0</td>\n",
              "      <td>1</td>\n",
              "      <td>2</td>\n",
              "      <td>0</td>\n",
              "      <td>2</td>\n",
              "      <td>3</td>\n",
              "      <td>0</td>\n",
              "      <td>1</td>\n",
              "    </tr>\n",
              "    <tr>\n",
              "      <th>3</th>\n",
              "      <td>68</td>\n",
              "      <td>3</td>\n",
              "      <td>3.0</td>\n",
              "      <td>3</td>\n",
              "      <td>4</td>\n",
              "      <td>0</td>\n",
              "      <td>1</td>\n",
              "      <td>2</td>\n",
              "      <td>1</td>\n",
              "      <td>3</td>\n",
              "    </tr>\n",
              "    <tr>\n",
              "      <th>4</th>\n",
              "      <td>73</td>\n",
              "      <td>3</td>\n",
              "      <td>6.0</td>\n",
              "      <td>3</td>\n",
              "      <td>4</td>\n",
              "      <td>0</td>\n",
              "      <td>1</td>\n",
              "      <td>2</td>\n",
              "      <td>0</td>\n",
              "      <td>1</td>\n",
              "    </tr>\n",
              "  </tbody>\n",
              "</table>\n",
              "</div>\n",
              "      <button class=\"colab-df-convert\" onclick=\"convertToInteractive('df-636ae766-f6be-4a84-9e87-6c08176b9d10')\"\n",
              "              title=\"Convert this dataframe to an interactive table.\"\n",
              "              style=\"display:none;\">\n",
              "        \n",
              "  <svg xmlns=\"http://www.w3.org/2000/svg\" height=\"24px\"viewBox=\"0 0 24 24\"\n",
              "       width=\"24px\">\n",
              "    <path d=\"M0 0h24v24H0V0z\" fill=\"none\"/>\n",
              "    <path d=\"M18.56 5.44l.94 2.06.94-2.06 2.06-.94-2.06-.94-.94-2.06-.94 2.06-2.06.94zm-11 1L8.5 8.5l.94-2.06 2.06-.94-2.06-.94L8.5 2.5l-.94 2.06-2.06.94zm10 10l.94 2.06.94-2.06 2.06-.94-2.06-.94-.94-2.06-.94 2.06-2.06.94z\"/><path d=\"M17.41 7.96l-1.37-1.37c-.4-.4-.92-.59-1.43-.59-.52 0-1.04.2-1.43.59L10.3 9.45l-7.72 7.72c-.78.78-.78 2.05 0 2.83L4 21.41c.39.39.9.59 1.41.59.51 0 1.02-.2 1.41-.59l7.78-7.78 2.81-2.81c.8-.78.8-2.07 0-2.86zM5.41 20L4 18.59l7.72-7.72 1.47 1.35L5.41 20z\"/>\n",
              "  </svg>\n",
              "      </button>\n",
              "      \n",
              "  <style>\n",
              "    .colab-df-container {\n",
              "      display:flex;\n",
              "      flex-wrap:wrap;\n",
              "      gap: 12px;\n",
              "    }\n",
              "\n",
              "    .colab-df-convert {\n",
              "      background-color: #E8F0FE;\n",
              "      border: none;\n",
              "      border-radius: 50%;\n",
              "      cursor: pointer;\n",
              "      display: none;\n",
              "      fill: #1967D2;\n",
              "      height: 32px;\n",
              "      padding: 0 0 0 0;\n",
              "      width: 32px;\n",
              "    }\n",
              "\n",
              "    .colab-df-convert:hover {\n",
              "      background-color: #E2EBFA;\n",
              "      box-shadow: 0px 1px 2px rgba(60, 64, 67, 0.3), 0px 1px 3px 1px rgba(60, 64, 67, 0.15);\n",
              "      fill: #174EA6;\n",
              "    }\n",
              "\n",
              "    [theme=dark] .colab-df-convert {\n",
              "      background-color: #3B4455;\n",
              "      fill: #D2E3FC;\n",
              "    }\n",
              "\n",
              "    [theme=dark] .colab-df-convert:hover {\n",
              "      background-color: #434B5C;\n",
              "      box-shadow: 0px 1px 3px 1px rgba(0, 0, 0, 0.15);\n",
              "      filter: drop-shadow(0px 1px 2px rgba(0, 0, 0, 0.3));\n",
              "      fill: #FFFFFF;\n",
              "    }\n",
              "  </style>\n",
              "\n",
              "      <script>\n",
              "        const buttonEl =\n",
              "          document.querySelector('#df-636ae766-f6be-4a84-9e87-6c08176b9d10 button.colab-df-convert');\n",
              "        buttonEl.style.display =\n",
              "          google.colab.kernel.accessAllowed ? 'block' : 'none';\n",
              "\n",
              "        async function convertToInteractive(key) {\n",
              "          const element = document.querySelector('#df-636ae766-f6be-4a84-9e87-6c08176b9d10');\n",
              "          const dataTable =\n",
              "            await google.colab.kernel.invokeFunction('convertToInteractive',\n",
              "                                                     [key], {});\n",
              "          if (!dataTable) return;\n",
              "\n",
              "          const docLinkHtml = 'Like what you see? Visit the ' +\n",
              "            '<a target=\"_blank\" href=https://colab.research.google.com/notebooks/data_table.ipynb>data table notebook</a>'\n",
              "            + ' to learn more about interactive tables.';\n",
              "          element.innerHTML = '';\n",
              "          dataTable['output_type'] = 'display_data';\n",
              "          await google.colab.output.renderOutput(dataTable, element);\n",
              "          const docLink = document.createElement('div');\n",
              "          docLink.innerHTML = docLinkHtml;\n",
              "          element.appendChild(docLink);\n",
              "        }\n",
              "      </script>\n",
              "    </div>\n",
              "  </div>\n",
              "  "
            ]
          },
          "metadata": {}
        },
        {
          "output_type": "stream",
          "name": "stdout",
          "text": [
            "<class 'pandas.core.frame.DataFrame'>\n",
            "RangeIndex: 2092 entries, 0 to 2091\n",
            "Data columns (total 10 columns):\n",
            " #   Column  Non-Null Count  Dtype  \n",
            "---  ------  --------------  -----  \n",
            " 0   연령      2092 non-null   int64  \n",
            " 1   종교      2092 non-null   int64  \n",
            " 2   직업      2092 non-null   float64\n",
            " 3   혼인상태    2092 non-null   int64  \n",
            " 4   교육수준    2092 non-null   int64  \n",
            " 5   건강상태    2092 non-null   int64  \n",
            " 6   전체 만족도  2092 non-null   int64  \n",
            " 7   소득수준    2092 non-null   int64  \n",
            " 8   활동성     2092 non-null   int64  \n",
            " 9   target  2092 non-null   int64  \n",
            "dtypes: float64(1), int64(9)\n",
            "memory usage: 163.6 KB\n"
          ]
        }
      ]
    },
    {
      "cell_type": "markdown",
      "source": [
        "- 데이터셋 분리"
      ],
      "metadata": {
        "id": "ZYZprsH52Lwo"
      }
    },
    {
      "cell_type": "code",
      "source": [
        "X_train, X_test, y_train, y_test = train_test_split(\n",
        "    df.iloc[:,:-1], df.iloc[:,-1], test_size=0.2, random_state=2022)"
      ],
      "metadata": {
        "id": "SVeke1rP1xnG"
      },
      "execution_count": 6,
      "outputs": []
    },
    {
      "cell_type": "markdown",
      "source": [
        "- 오버샘플링 데이터 생성"
      ],
      "metadata": {
        "id": "BEbcJ21o2SPJ"
      }
    },
    {
      "cell_type": "code",
      "source": [
        "from imblearn.over_sampling import SMOTE\n",
        "oversampling_instance = SMOTE()\n",
        "X_train_o, y_train_o = oversampling_instance.fit_resample(X_train, y_train)\n",
        "y_train_o.value_counts()"
      ],
      "metadata": {
        "colab": {
          "base_uri": "https://localhost:8080/"
        },
        "id": "0-yqhi7y2R1X",
        "outputId": "a9f7170f-9253-4fd1-c817-c07ee304c9d3"
      },
      "execution_count": 7,
      "outputs": [
        {
          "output_type": "execute_result",
          "data": {
            "text/plain": [
              "1    1024\n",
              "2    1024\n",
              "3    1024\n",
              "4    1024\n",
              "5    1024\n",
              "Name: target, dtype: int64"
            ]
          },
          "metadata": {},
          "execution_count": 7
        }
      ]
    },
    {
      "cell_type": "markdown",
      "source": [
        "- XGBoost"
      ],
      "metadata": {
        "id": "hJ-EAWA439Id"
      }
    },
    {
      "cell_type": "code",
      "source": [
        "from xgboost import XGBClassifier\n",
        "xgb = XGBClassifier(n_estimators=400, learning_rate=0.1, random_state=2022)\n",
        "evals = [(X_test, y_test)]"
      ],
      "metadata": {
        "id": "ZQrDKckz38vX"
      },
      "execution_count": 8,
      "outputs": []
    },
    {
      "cell_type": "code",
      "source": [
        "xgb.fit(X_train, y_train, early_stopping_rounds = 100, eval_metric='merror', eval_set=evals , verbose=True)\n",
        "xgb.score(X_test, y_test)"
      ],
      "metadata": {
        "colab": {
          "base_uri": "https://localhost:8080/"
        },
        "id": "ExXN9R3y4O0_",
        "outputId": "5a78a68e-73be-414b-8217-110aa664320d"
      },
      "execution_count": 9,
      "outputs": [
        {
          "output_type": "stream",
          "name": "stdout",
          "text": [
            "[0]\tvalidation_0-merror:0.365155\n",
            "Will train until validation_0-merror hasn't improved in 100 rounds.\n",
            "[1]\tvalidation_0-merror:0.362769\n",
            "[2]\tvalidation_0-merror:0.362769\n",
            "[3]\tvalidation_0-merror:0.362769\n",
            "[4]\tvalidation_0-merror:0.360382\n",
            "[5]\tvalidation_0-merror:0.365155\n",
            "[6]\tvalidation_0-merror:0.360382\n",
            "[7]\tvalidation_0-merror:0.365155\n",
            "[8]\tvalidation_0-merror:0.360382\n",
            "[9]\tvalidation_0-merror:0.360382\n",
            "[10]\tvalidation_0-merror:0.360382\n",
            "[11]\tvalidation_0-merror:0.360382\n",
            "[12]\tvalidation_0-merror:0.360382\n",
            "[13]\tvalidation_0-merror:0.360382\n",
            "[14]\tvalidation_0-merror:0.355609\n",
            "[15]\tvalidation_0-merror:0.355609\n",
            "[16]\tvalidation_0-merror:0.355609\n",
            "[17]\tvalidation_0-merror:0.355609\n",
            "[18]\tvalidation_0-merror:0.355609\n",
            "[19]\tvalidation_0-merror:0.355609\n",
            "[20]\tvalidation_0-merror:0.355609\n",
            "[21]\tvalidation_0-merror:0.355609\n",
            "[22]\tvalidation_0-merror:0.355609\n",
            "[23]\tvalidation_0-merror:0.355609\n",
            "[24]\tvalidation_0-merror:0.355609\n",
            "[25]\tvalidation_0-merror:0.355609\n",
            "[26]\tvalidation_0-merror:0.355609\n",
            "[27]\tvalidation_0-merror:0.355609\n",
            "[28]\tvalidation_0-merror:0.355609\n",
            "[29]\tvalidation_0-merror:0.355609\n",
            "[30]\tvalidation_0-merror:0.355609\n",
            "[31]\tvalidation_0-merror:0.355609\n",
            "[32]\tvalidation_0-merror:0.355609\n",
            "[33]\tvalidation_0-merror:0.355609\n",
            "[34]\tvalidation_0-merror:0.355609\n",
            "[35]\tvalidation_0-merror:0.355609\n",
            "[36]\tvalidation_0-merror:0.355609\n",
            "[37]\tvalidation_0-merror:0.357995\n",
            "[38]\tvalidation_0-merror:0.357995\n",
            "[39]\tvalidation_0-merror:0.357995\n",
            "[40]\tvalidation_0-merror:0.357995\n",
            "[41]\tvalidation_0-merror:0.357995\n",
            "[42]\tvalidation_0-merror:0.357995\n",
            "[43]\tvalidation_0-merror:0.357995\n",
            "[44]\tvalidation_0-merror:0.360382\n",
            "[45]\tvalidation_0-merror:0.357995\n",
            "[46]\tvalidation_0-merror:0.362769\n",
            "[47]\tvalidation_0-merror:0.362769\n",
            "[48]\tvalidation_0-merror:0.362769\n",
            "[49]\tvalidation_0-merror:0.362769\n",
            "[50]\tvalidation_0-merror:0.362769\n",
            "[51]\tvalidation_0-merror:0.362769\n",
            "[52]\tvalidation_0-merror:0.362769\n",
            "[53]\tvalidation_0-merror:0.362769\n",
            "[54]\tvalidation_0-merror:0.362769\n",
            "[55]\tvalidation_0-merror:0.362769\n",
            "[56]\tvalidation_0-merror:0.362769\n",
            "[57]\tvalidation_0-merror:0.362769\n",
            "[58]\tvalidation_0-merror:0.362769\n",
            "[59]\tvalidation_0-merror:0.362769\n",
            "[60]\tvalidation_0-merror:0.365155\n",
            "[61]\tvalidation_0-merror:0.365155\n",
            "[62]\tvalidation_0-merror:0.365155\n",
            "[63]\tvalidation_0-merror:0.362769\n",
            "[64]\tvalidation_0-merror:0.365155\n",
            "[65]\tvalidation_0-merror:0.365155\n",
            "[66]\tvalidation_0-merror:0.365155\n",
            "[67]\tvalidation_0-merror:0.365155\n",
            "[68]\tvalidation_0-merror:0.365155\n",
            "[69]\tvalidation_0-merror:0.365155\n",
            "[70]\tvalidation_0-merror:0.365155\n",
            "[71]\tvalidation_0-merror:0.365155\n",
            "[72]\tvalidation_0-merror:0.365155\n",
            "[73]\tvalidation_0-merror:0.365155\n",
            "[74]\tvalidation_0-merror:0.367542\n",
            "[75]\tvalidation_0-merror:0.367542\n",
            "[76]\tvalidation_0-merror:0.367542\n",
            "[77]\tvalidation_0-merror:0.367542\n",
            "[78]\tvalidation_0-merror:0.367542\n",
            "[79]\tvalidation_0-merror:0.367542\n",
            "[80]\tvalidation_0-merror:0.365155\n",
            "[81]\tvalidation_0-merror:0.365155\n",
            "[82]\tvalidation_0-merror:0.365155\n",
            "[83]\tvalidation_0-merror:0.365155\n",
            "[84]\tvalidation_0-merror:0.365155\n",
            "[85]\tvalidation_0-merror:0.365155\n",
            "[86]\tvalidation_0-merror:0.365155\n",
            "[87]\tvalidation_0-merror:0.365155\n",
            "[88]\tvalidation_0-merror:0.367542\n",
            "[89]\tvalidation_0-merror:0.367542\n",
            "[90]\tvalidation_0-merror:0.367542\n",
            "[91]\tvalidation_0-merror:0.369928\n",
            "[92]\tvalidation_0-merror:0.369928\n",
            "[93]\tvalidation_0-merror:0.369928\n",
            "[94]\tvalidation_0-merror:0.367542\n",
            "[95]\tvalidation_0-merror:0.367542\n",
            "[96]\tvalidation_0-merror:0.367542\n",
            "[97]\tvalidation_0-merror:0.367542\n",
            "[98]\tvalidation_0-merror:0.367542\n",
            "[99]\tvalidation_0-merror:0.367542\n",
            "[100]\tvalidation_0-merror:0.369928\n",
            "[101]\tvalidation_0-merror:0.369928\n",
            "[102]\tvalidation_0-merror:0.367542\n",
            "[103]\tvalidation_0-merror:0.365155\n",
            "[104]\tvalidation_0-merror:0.367542\n",
            "[105]\tvalidation_0-merror:0.367542\n",
            "[106]\tvalidation_0-merror:0.365155\n",
            "[107]\tvalidation_0-merror:0.367542\n",
            "[108]\tvalidation_0-merror:0.365155\n",
            "[109]\tvalidation_0-merror:0.365155\n",
            "[110]\tvalidation_0-merror:0.365155\n",
            "[111]\tvalidation_0-merror:0.365155\n",
            "[112]\tvalidation_0-merror:0.365155\n",
            "[113]\tvalidation_0-merror:0.365155\n",
            "[114]\tvalidation_0-merror:0.367542\n",
            "Stopping. Best iteration:\n",
            "[14]\tvalidation_0-merror:0.355609\n",
            "\n"
          ]
        },
        {
          "output_type": "execute_result",
          "data": {
            "text/plain": [
              "0.6443914081145584"
            ]
          },
          "metadata": {},
          "execution_count": 9
        }
      ]
    },
    {
      "cell_type": "code",
      "source": [
        "xgb.fit(X_train_o, y_train_o, early_stopping_rounds = 100, eval_metric='merror', eval_set=evals , verbose=True)\n",
        "xgb.score(X_test, y_test)"
      ],
      "metadata": {
        "colab": {
          "base_uri": "https://localhost:8080/"
        },
        "id": "ITsrbbzG4HMl",
        "outputId": "61feb350-363b-4253-b5c7-aa4891e48cb3"
      },
      "execution_count": 10,
      "outputs": [
        {
          "output_type": "stream",
          "name": "stdout",
          "text": [
            "[0]\tvalidation_0-merror:0.553699\n",
            "Will train until validation_0-merror hasn't improved in 100 rounds.\n",
            "[1]\tvalidation_0-merror:0.551313\n",
            "[2]\tvalidation_0-merror:0.546539\n",
            "[3]\tvalidation_0-merror:0.560859\n",
            "[4]\tvalidation_0-merror:0.560859\n",
            "[5]\tvalidation_0-merror:0.558473\n",
            "[6]\tvalidation_0-merror:0.548926\n",
            "[7]\tvalidation_0-merror:0.544153\n",
            "[8]\tvalidation_0-merror:0.551313\n",
            "[9]\tvalidation_0-merror:0.546539\n",
            "[10]\tvalidation_0-merror:0.551313\n",
            "[11]\tvalidation_0-merror:0.548926\n",
            "[12]\tvalidation_0-merror:0.541766\n",
            "[13]\tvalidation_0-merror:0.536993\n",
            "[14]\tvalidation_0-merror:0.539379\n",
            "[15]\tvalidation_0-merror:0.536993\n",
            "[16]\tvalidation_0-merror:0.539379\n",
            "[17]\tvalidation_0-merror:0.536993\n",
            "[18]\tvalidation_0-merror:0.539379\n",
            "[19]\tvalidation_0-merror:0.536993\n",
            "[20]\tvalidation_0-merror:0.534606\n",
            "[21]\tvalidation_0-merror:0.539379\n",
            "[22]\tvalidation_0-merror:0.539379\n",
            "[23]\tvalidation_0-merror:0.539379\n",
            "[24]\tvalidation_0-merror:0.536993\n",
            "[25]\tvalidation_0-merror:0.534606\n",
            "[26]\tvalidation_0-merror:0.529833\n",
            "[27]\tvalidation_0-merror:0.53222\n",
            "[28]\tvalidation_0-merror:0.5179\n",
            "[29]\tvalidation_0-merror:0.520286\n",
            "[30]\tvalidation_0-merror:0.52506\n",
            "[31]\tvalidation_0-merror:0.522673\n",
            "[32]\tvalidation_0-merror:0.520286\n",
            "[33]\tvalidation_0-merror:0.5179\n",
            "[34]\tvalidation_0-merror:0.522673\n",
            "[35]\tvalidation_0-merror:0.52506\n",
            "[36]\tvalidation_0-merror:0.527446\n",
            "[37]\tvalidation_0-merror:0.53222\n",
            "[38]\tvalidation_0-merror:0.53222\n",
            "[39]\tvalidation_0-merror:0.527446\n",
            "[40]\tvalidation_0-merror:0.529833\n",
            "[41]\tvalidation_0-merror:0.529833\n",
            "[42]\tvalidation_0-merror:0.527446\n",
            "[43]\tvalidation_0-merror:0.527446\n",
            "[44]\tvalidation_0-merror:0.522673\n",
            "[45]\tvalidation_0-merror:0.522673\n",
            "[46]\tvalidation_0-merror:0.527446\n",
            "[47]\tvalidation_0-merror:0.52506\n",
            "[48]\tvalidation_0-merror:0.52506\n",
            "[49]\tvalidation_0-merror:0.522673\n",
            "[50]\tvalidation_0-merror:0.527446\n",
            "[51]\tvalidation_0-merror:0.522673\n",
            "[52]\tvalidation_0-merror:0.522673\n",
            "[53]\tvalidation_0-merror:0.52506\n",
            "[54]\tvalidation_0-merror:0.527446\n",
            "[55]\tvalidation_0-merror:0.52506\n",
            "[56]\tvalidation_0-merror:0.522673\n",
            "[57]\tvalidation_0-merror:0.52506\n",
            "[58]\tvalidation_0-merror:0.520286\n",
            "[59]\tvalidation_0-merror:0.522673\n",
            "[60]\tvalidation_0-merror:0.522673\n",
            "[61]\tvalidation_0-merror:0.52506\n",
            "[62]\tvalidation_0-merror:0.520286\n",
            "[63]\tvalidation_0-merror:0.520286\n",
            "[64]\tvalidation_0-merror:0.522673\n",
            "[65]\tvalidation_0-merror:0.520286\n",
            "[66]\tvalidation_0-merror:0.520286\n",
            "[67]\tvalidation_0-merror:0.52506\n",
            "[68]\tvalidation_0-merror:0.522673\n",
            "[69]\tvalidation_0-merror:0.527446\n",
            "[70]\tvalidation_0-merror:0.527446\n",
            "[71]\tvalidation_0-merror:0.527446\n",
            "[72]\tvalidation_0-merror:0.52506\n",
            "[73]\tvalidation_0-merror:0.522673\n",
            "[74]\tvalidation_0-merror:0.522673\n",
            "[75]\tvalidation_0-merror:0.522673\n",
            "[76]\tvalidation_0-merror:0.52506\n",
            "[77]\tvalidation_0-merror:0.522673\n",
            "[78]\tvalidation_0-merror:0.522673\n",
            "[79]\tvalidation_0-merror:0.52506\n",
            "[80]\tvalidation_0-merror:0.527446\n",
            "[81]\tvalidation_0-merror:0.527446\n",
            "[82]\tvalidation_0-merror:0.527446\n",
            "[83]\tvalidation_0-merror:0.527446\n",
            "[84]\tvalidation_0-merror:0.527446\n",
            "[85]\tvalidation_0-merror:0.527446\n",
            "[86]\tvalidation_0-merror:0.529833\n",
            "[87]\tvalidation_0-merror:0.53222\n",
            "[88]\tvalidation_0-merror:0.53222\n",
            "[89]\tvalidation_0-merror:0.534606\n",
            "[90]\tvalidation_0-merror:0.534606\n",
            "[91]\tvalidation_0-merror:0.529833\n",
            "[92]\tvalidation_0-merror:0.53222\n",
            "[93]\tvalidation_0-merror:0.529833\n",
            "[94]\tvalidation_0-merror:0.53222\n",
            "[95]\tvalidation_0-merror:0.53222\n",
            "[96]\tvalidation_0-merror:0.53222\n",
            "[97]\tvalidation_0-merror:0.53222\n",
            "[98]\tvalidation_0-merror:0.53222\n",
            "[99]\tvalidation_0-merror:0.534606\n",
            "[100]\tvalidation_0-merror:0.53222\n",
            "[101]\tvalidation_0-merror:0.53222\n",
            "[102]\tvalidation_0-merror:0.53222\n",
            "[103]\tvalidation_0-merror:0.53222\n",
            "[104]\tvalidation_0-merror:0.53222\n",
            "[105]\tvalidation_0-merror:0.53222\n",
            "[106]\tvalidation_0-merror:0.534606\n",
            "[107]\tvalidation_0-merror:0.53222\n",
            "[108]\tvalidation_0-merror:0.53222\n",
            "[109]\tvalidation_0-merror:0.529833\n",
            "[110]\tvalidation_0-merror:0.527446\n",
            "[111]\tvalidation_0-merror:0.529833\n",
            "[112]\tvalidation_0-merror:0.527446\n",
            "[113]\tvalidation_0-merror:0.529833\n",
            "[114]\tvalidation_0-merror:0.52506\n",
            "[115]\tvalidation_0-merror:0.529833\n",
            "[116]\tvalidation_0-merror:0.529833\n",
            "[117]\tvalidation_0-merror:0.527446\n",
            "[118]\tvalidation_0-merror:0.522673\n",
            "[119]\tvalidation_0-merror:0.52506\n",
            "[120]\tvalidation_0-merror:0.520286\n",
            "[121]\tvalidation_0-merror:0.520286\n",
            "[122]\tvalidation_0-merror:0.520286\n",
            "[123]\tvalidation_0-merror:0.520286\n",
            "[124]\tvalidation_0-merror:0.520286\n",
            "[125]\tvalidation_0-merror:0.520286\n",
            "[126]\tvalidation_0-merror:0.5179\n",
            "[127]\tvalidation_0-merror:0.515513\n",
            "[128]\tvalidation_0-merror:0.515513\n",
            "[129]\tvalidation_0-merror:0.5179\n",
            "[130]\tvalidation_0-merror:0.5179\n",
            "[131]\tvalidation_0-merror:0.5179\n",
            "[132]\tvalidation_0-merror:0.5179\n",
            "[133]\tvalidation_0-merror:0.520286\n",
            "[134]\tvalidation_0-merror:0.520286\n",
            "[135]\tvalidation_0-merror:0.520286\n",
            "[136]\tvalidation_0-merror:0.522673\n",
            "[137]\tvalidation_0-merror:0.520286\n",
            "[138]\tvalidation_0-merror:0.520286\n",
            "[139]\tvalidation_0-merror:0.52506\n",
            "[140]\tvalidation_0-merror:0.52506\n",
            "[141]\tvalidation_0-merror:0.527446\n",
            "[142]\tvalidation_0-merror:0.527446\n",
            "[143]\tvalidation_0-merror:0.527446\n",
            "[144]\tvalidation_0-merror:0.527446\n",
            "[145]\tvalidation_0-merror:0.52506\n",
            "[146]\tvalidation_0-merror:0.522673\n",
            "[147]\tvalidation_0-merror:0.522673\n",
            "[148]\tvalidation_0-merror:0.522673\n",
            "[149]\tvalidation_0-merror:0.522673\n",
            "[150]\tvalidation_0-merror:0.522673\n",
            "[151]\tvalidation_0-merror:0.522673\n",
            "[152]\tvalidation_0-merror:0.52506\n",
            "[153]\tvalidation_0-merror:0.52506\n",
            "[154]\tvalidation_0-merror:0.52506\n",
            "[155]\tvalidation_0-merror:0.52506\n",
            "[156]\tvalidation_0-merror:0.52506\n",
            "[157]\tvalidation_0-merror:0.52506\n",
            "[158]\tvalidation_0-merror:0.52506\n",
            "[159]\tvalidation_0-merror:0.52506\n",
            "[160]\tvalidation_0-merror:0.52506\n",
            "[161]\tvalidation_0-merror:0.52506\n",
            "[162]\tvalidation_0-merror:0.52506\n",
            "[163]\tvalidation_0-merror:0.52506\n",
            "[164]\tvalidation_0-merror:0.52506\n",
            "[165]\tvalidation_0-merror:0.527446\n",
            "[166]\tvalidation_0-merror:0.527446\n",
            "[167]\tvalidation_0-merror:0.52506\n",
            "[168]\tvalidation_0-merror:0.52506\n",
            "[169]\tvalidation_0-merror:0.52506\n",
            "[170]\tvalidation_0-merror:0.527446\n",
            "[171]\tvalidation_0-merror:0.527446\n",
            "[172]\tvalidation_0-merror:0.52506\n",
            "[173]\tvalidation_0-merror:0.52506\n",
            "[174]\tvalidation_0-merror:0.527446\n",
            "[175]\tvalidation_0-merror:0.52506\n",
            "[176]\tvalidation_0-merror:0.529833\n",
            "[177]\tvalidation_0-merror:0.529833\n",
            "[178]\tvalidation_0-merror:0.527446\n",
            "[179]\tvalidation_0-merror:0.527446\n",
            "[180]\tvalidation_0-merror:0.529833\n",
            "[181]\tvalidation_0-merror:0.527446\n",
            "[182]\tvalidation_0-merror:0.522673\n",
            "[183]\tvalidation_0-merror:0.527446\n",
            "[184]\tvalidation_0-merror:0.527446\n",
            "[185]\tvalidation_0-merror:0.522673\n",
            "[186]\tvalidation_0-merror:0.522673\n",
            "[187]\tvalidation_0-merror:0.527446\n",
            "[188]\tvalidation_0-merror:0.52506\n",
            "[189]\tvalidation_0-merror:0.52506\n",
            "[190]\tvalidation_0-merror:0.522673\n",
            "[191]\tvalidation_0-merror:0.522673\n",
            "[192]\tvalidation_0-merror:0.520286\n",
            "[193]\tvalidation_0-merror:0.522673\n",
            "[194]\tvalidation_0-merror:0.522673\n",
            "[195]\tvalidation_0-merror:0.522673\n",
            "[196]\tvalidation_0-merror:0.52506\n",
            "[197]\tvalidation_0-merror:0.52506\n",
            "[198]\tvalidation_0-merror:0.522673\n",
            "[199]\tvalidation_0-merror:0.52506\n",
            "[200]\tvalidation_0-merror:0.522673\n",
            "[201]\tvalidation_0-merror:0.522673\n",
            "[202]\tvalidation_0-merror:0.522673\n",
            "[203]\tvalidation_0-merror:0.522673\n",
            "[204]\tvalidation_0-merror:0.52506\n",
            "[205]\tvalidation_0-merror:0.522673\n",
            "[206]\tvalidation_0-merror:0.522673\n",
            "[207]\tvalidation_0-merror:0.522673\n",
            "[208]\tvalidation_0-merror:0.520286\n",
            "[209]\tvalidation_0-merror:0.522673\n",
            "[210]\tvalidation_0-merror:0.520286\n",
            "[211]\tvalidation_0-merror:0.522673\n",
            "[212]\tvalidation_0-merror:0.52506\n",
            "[213]\tvalidation_0-merror:0.522673\n",
            "[214]\tvalidation_0-merror:0.52506\n",
            "[215]\tvalidation_0-merror:0.52506\n",
            "[216]\tvalidation_0-merror:0.52506\n",
            "[217]\tvalidation_0-merror:0.52506\n",
            "[218]\tvalidation_0-merror:0.52506\n",
            "[219]\tvalidation_0-merror:0.52506\n",
            "[220]\tvalidation_0-merror:0.52506\n",
            "[221]\tvalidation_0-merror:0.52506\n",
            "[222]\tvalidation_0-merror:0.527446\n",
            "[223]\tvalidation_0-merror:0.527446\n",
            "[224]\tvalidation_0-merror:0.527446\n",
            "[225]\tvalidation_0-merror:0.52506\n",
            "[226]\tvalidation_0-merror:0.52506\n",
            "[227]\tvalidation_0-merror:0.527446\n",
            "Stopping. Best iteration:\n",
            "[127]\tvalidation_0-merror:0.515513\n",
            "\n"
          ]
        },
        {
          "output_type": "execute_result",
          "data": {
            "text/plain": [
              "0.48448687350835323"
            ]
          },
          "metadata": {},
          "execution_count": 10
        }
      ]
    },
    {
      "cell_type": "markdown",
      "source": [
        "- KNN"
      ],
      "metadata": {
        "id": "P45xd_Ni2n19"
      }
    },
    {
      "cell_type": "code",
      "source": [
        "from sklearn.neighbors import KNeighborsClassifier\n",
        "knn = KNeighborsClassifier(n_neighbors=10)\n",
        "knn.fit(X_train, y_train)\n",
        "knn.score(X_test, y_test)"
      ],
      "metadata": {
        "colab": {
          "base_uri": "https://localhost:8080/"
        },
        "id": "mmr7CZKq19Qi",
        "outputId": "675172ab-a570-4ae9-8c3a-c931c8066982"
      },
      "execution_count": 11,
      "outputs": [
        {
          "output_type": "execute_result",
          "data": {
            "text/plain": [
              "0.6229116945107399"
            ]
          },
          "metadata": {},
          "execution_count": 11
        }
      ]
    },
    {
      "cell_type": "code",
      "source": [
        "knn.fit(X_train_o, y_train_o)\n",
        "knn.score(X_test, y_test)"
      ],
      "metadata": {
        "colab": {
          "base_uri": "https://localhost:8080/"
        },
        "id": "EmvwokRH2mbq",
        "outputId": "94b2e19f-37e9-403c-a3cb-d1c4fbdb6220"
      },
      "execution_count": 12,
      "outputs": [
        {
          "output_type": "execute_result",
          "data": {
            "text/plain": [
              "0.3412887828162291"
            ]
          },
          "metadata": {},
          "execution_count": 12
        }
      ]
    },
    {
      "cell_type": "code",
      "source": [
        "from sklearn.model_selection import GridSearchCV\n",
        "params = {'n_neighbors': [5, 10, 15, 20]}\n",
        "grid_knn = GridSearchCV(knn, params, scoring='accuracy', cv=5)\n",
        "grid_knn.fit(X_train, y_train)\n",
        "grid_knn.best_params_"
      ],
      "metadata": {
        "colab": {
          "base_uri": "https://localhost:8080/"
        },
        "id": "PqsrwTVD7B8y",
        "outputId": "23a01487-0e51-4177-c45d-ee34ea3fa654"
      },
      "execution_count": 13,
      "outputs": [
        {
          "output_type": "execute_result",
          "data": {
            "text/plain": [
              "{'n_neighbors': 20}"
            ]
          },
          "metadata": {},
          "execution_count": 13
        }
      ]
    },
    {
      "cell_type": "code",
      "source": [
        "params = {'n_neighbors': [20, 25, 30]}\n",
        "grid_knn = GridSearchCV(knn, params, scoring='accuracy', cv=5)\n",
        "grid_knn.fit(X_train, y_train)\n",
        "grid_knn.best_params_"
      ],
      "metadata": {
        "colab": {
          "base_uri": "https://localhost:8080/"
        },
        "id": "jnfXD7Ve8NE_",
        "outputId": "56373fd9-9f51-487c-ff66-83b25913863a"
      },
      "execution_count": 14,
      "outputs": [
        {
          "output_type": "execute_result",
          "data": {
            "text/plain": [
              "{'n_neighbors': 30}"
            ]
          },
          "metadata": {},
          "execution_count": 14
        }
      ]
    },
    {
      "cell_type": "code",
      "source": [
        "params = {'n_neighbors': [27, 28, 29]}\n",
        "grid_knn = GridSearchCV(knn, params, scoring='accuracy', cv=5)\n",
        "grid_knn.fit(X_train, y_train)\n",
        "grid_knn.best_params_"
      ],
      "metadata": {
        "colab": {
          "base_uri": "https://localhost:8080/"
        },
        "id": "qCx7YqbO8nKl",
        "outputId": "5f4b0d66-da60-49cc-b2b2-1236cb7371ad"
      },
      "execution_count": 15,
      "outputs": [
        {
          "output_type": "execute_result",
          "data": {
            "text/plain": [
              "{'n_neighbors': 28}"
            ]
          },
          "metadata": {},
          "execution_count": 15
        }
      ]
    },
    {
      "cell_type": "code",
      "source": [
        "grid_knn.best_estimator_.score(X_test, y_test)"
      ],
      "metadata": {
        "colab": {
          "base_uri": "https://localhost:8080/"
        },
        "id": "QBRB-Z1v8eGR",
        "outputId": "6be31213-23f5-4184-be0b-d7ae068a002f"
      },
      "execution_count": 16,
      "outputs": [
        {
          "output_type": "execute_result",
          "data": {
            "text/plain": [
              "0.639618138424821"
            ]
          },
          "metadata": {},
          "execution_count": 16
        }
      ]
    },
    {
      "cell_type": "markdown",
      "source": [
        "- CatBoost"
      ],
      "metadata": {
        "id": "-qT-lQDH2voa"
      }
    },
    {
      "cell_type": "code",
      "source": [
        "# pip install catboost\n",
        "from catboost import CatBoostClassifier\n",
        "cb = CatBoostClassifier(iterations=100)"
      ],
      "metadata": {
        "id": "DZChslKy2tYq"
      },
      "execution_count": 19,
      "outputs": []
    },
    {
      "cell_type": "code",
      "source": [
        "cb.fit(X_train, y_train)\n",
        "cb.score(X_test, y_test)"
      ],
      "metadata": {
        "colab": {
          "base_uri": "https://localhost:8080/"
        },
        "id": "ZaT0Vozj3RbO",
        "outputId": "eaa88308-99cd-4e8f-ff55-ff979f52ac11"
      },
      "execution_count": 20,
      "outputs": [
        {
          "output_type": "stream",
          "name": "stdout",
          "text": [
            "Learning rate set to 0.5\n",
            "0:\tlearn: 1.2295009\ttotal: 52.7ms\tremaining: 5.22s\n",
            "1:\tlearn: 1.1677714\ttotal: 63.8ms\tremaining: 3.12s\n",
            "2:\tlearn: 1.1409022\ttotal: 66.5ms\tremaining: 2.15s\n",
            "3:\tlearn: 1.1146789\ttotal: 79.4ms\tremaining: 1.91s\n",
            "4:\tlearn: 1.0922391\ttotal: 82.9ms\tremaining: 1.57s\n",
            "5:\tlearn: 1.0714506\ttotal: 89ms\tremaining: 1.39s\n",
            "6:\tlearn: 1.0563771\ttotal: 93.8ms\tremaining: 1.25s\n",
            "7:\tlearn: 1.0363551\ttotal: 96.9ms\tremaining: 1.11s\n",
            "8:\tlearn: 1.0275897\ttotal: 99.3ms\tremaining: 1s\n",
            "9:\tlearn: 1.0207570\ttotal: 101ms\tremaining: 908ms\n",
            "10:\tlearn: 1.0086050\ttotal: 103ms\tremaining: 830ms\n",
            "11:\tlearn: 1.0044612\ttotal: 104ms\tremaining: 764ms\n",
            "12:\tlearn: 1.0020809\ttotal: 105ms\tremaining: 705ms\n",
            "13:\tlearn: 0.9935909\ttotal: 107ms\tremaining: 656ms\n",
            "14:\tlearn: 0.9787064\ttotal: 108ms\tremaining: 613ms\n",
            "15:\tlearn: 0.9753133\ttotal: 110ms\tremaining: 577ms\n",
            "16:\tlearn: 0.9638325\ttotal: 112ms\tremaining: 548ms\n",
            "17:\tlearn: 0.9573172\ttotal: 114ms\tremaining: 520ms\n",
            "18:\tlearn: 0.9478027\ttotal: 116ms\tremaining: 493ms\n",
            "19:\tlearn: 0.9349908\ttotal: 117ms\tremaining: 468ms\n",
            "20:\tlearn: 0.9255440\ttotal: 119ms\tremaining: 447ms\n",
            "21:\tlearn: 0.9139245\ttotal: 121ms\tremaining: 429ms\n",
            "22:\tlearn: 0.9092305\ttotal: 124ms\tremaining: 413ms\n",
            "23:\tlearn: 0.9004411\ttotal: 125ms\tremaining: 397ms\n",
            "24:\tlearn: 0.8933327\ttotal: 127ms\tremaining: 381ms\n",
            "25:\tlearn: 0.8857049\ttotal: 129ms\tremaining: 366ms\n",
            "26:\tlearn: 0.8769936\ttotal: 130ms\tremaining: 352ms\n",
            "27:\tlearn: 0.8722831\ttotal: 132ms\tremaining: 339ms\n",
            "28:\tlearn: 0.8638611\ttotal: 134ms\tremaining: 329ms\n",
            "29:\tlearn: 0.8590698\ttotal: 136ms\tremaining: 317ms\n",
            "30:\tlearn: 0.8522531\ttotal: 138ms\tremaining: 306ms\n",
            "31:\tlearn: 0.8479104\ttotal: 139ms\tremaining: 295ms\n",
            "32:\tlearn: 0.8420821\ttotal: 140ms\tremaining: 285ms\n",
            "33:\tlearn: 0.8372603\ttotal: 142ms\tremaining: 276ms\n",
            "34:\tlearn: 0.8326652\ttotal: 145ms\tremaining: 268ms\n",
            "35:\tlearn: 0.8274223\ttotal: 147ms\tremaining: 261ms\n",
            "36:\tlearn: 0.8216519\ttotal: 148ms\tremaining: 252ms\n",
            "37:\tlearn: 0.8134633\ttotal: 150ms\tremaining: 244ms\n",
            "38:\tlearn: 0.8046712\ttotal: 151ms\tremaining: 236ms\n",
            "39:\tlearn: 0.8005390\ttotal: 153ms\tremaining: 229ms\n",
            "40:\tlearn: 0.7979492\ttotal: 155ms\tremaining: 223ms\n",
            "41:\tlearn: 0.7915812\ttotal: 157ms\tremaining: 216ms\n",
            "42:\tlearn: 0.7864915\ttotal: 167ms\tremaining: 222ms\n",
            "43:\tlearn: 0.7822456\ttotal: 180ms\tremaining: 230ms\n",
            "44:\tlearn: 0.7715231\ttotal: 183ms\tremaining: 224ms\n",
            "45:\tlearn: 0.7681396\ttotal: 191ms\tremaining: 225ms\n",
            "46:\tlearn: 0.7621306\ttotal: 193ms\tremaining: 218ms\n",
            "47:\tlearn: 0.7578211\ttotal: 199ms\tremaining: 216ms\n",
            "48:\tlearn: 0.7544353\ttotal: 201ms\tremaining: 209ms\n",
            "49:\tlearn: 0.7461374\ttotal: 202ms\tremaining: 202ms\n",
            "50:\tlearn: 0.7409946\ttotal: 204ms\tremaining: 196ms\n",
            "51:\tlearn: 0.7329548\ttotal: 206ms\tremaining: 190ms\n",
            "52:\tlearn: 0.7272296\ttotal: 208ms\tremaining: 184ms\n",
            "53:\tlearn: 0.7231331\ttotal: 210ms\tremaining: 179ms\n",
            "54:\tlearn: 0.7174897\ttotal: 212ms\tremaining: 173ms\n",
            "55:\tlearn: 0.7118202\ttotal: 214ms\tremaining: 168ms\n",
            "56:\tlearn: 0.7055777\ttotal: 216ms\tremaining: 163ms\n",
            "57:\tlearn: 0.6984780\ttotal: 218ms\tremaining: 158ms\n",
            "58:\tlearn: 0.6943540\ttotal: 221ms\tremaining: 153ms\n",
            "59:\tlearn: 0.6896700\ttotal: 222ms\tremaining: 148ms\n",
            "60:\tlearn: 0.6867662\ttotal: 224ms\tremaining: 143ms\n",
            "61:\tlearn: 0.6850324\ttotal: 226ms\tremaining: 139ms\n",
            "62:\tlearn: 0.6800207\ttotal: 228ms\tremaining: 134ms\n",
            "63:\tlearn: 0.6775078\ttotal: 230ms\tremaining: 129ms\n",
            "64:\tlearn: 0.6747019\ttotal: 231ms\tremaining: 125ms\n",
            "65:\tlearn: 0.6728040\ttotal: 234ms\tremaining: 120ms\n",
            "66:\tlearn: 0.6691379\ttotal: 241ms\tremaining: 119ms\n",
            "67:\tlearn: 0.6658684\ttotal: 246ms\tremaining: 116ms\n",
            "68:\tlearn: 0.6624826\ttotal: 252ms\tremaining: 113ms\n",
            "69:\tlearn: 0.6588052\ttotal: 257ms\tremaining: 110ms\n",
            "70:\tlearn: 0.6537888\ttotal: 263ms\tremaining: 107ms\n",
            "71:\tlearn: 0.6511924\ttotal: 268ms\tremaining: 104ms\n",
            "72:\tlearn: 0.6468587\ttotal: 274ms\tremaining: 102ms\n",
            "73:\tlearn: 0.6419020\ttotal: 280ms\tremaining: 98.3ms\n",
            "74:\tlearn: 0.6383172\ttotal: 286ms\tremaining: 95.4ms\n",
            "75:\tlearn: 0.6335786\ttotal: 289ms\tremaining: 91.2ms\n",
            "76:\tlearn: 0.6301260\ttotal: 294ms\tremaining: 87.8ms\n",
            "77:\tlearn: 0.6254232\ttotal: 296ms\tremaining: 83.5ms\n",
            "78:\tlearn: 0.6229007\ttotal: 298ms\tremaining: 79.2ms\n",
            "79:\tlearn: 0.6186854\ttotal: 300ms\tremaining: 75ms\n",
            "80:\tlearn: 0.6149147\ttotal: 303ms\tremaining: 71ms\n",
            "81:\tlearn: 0.6133086\ttotal: 305ms\tremaining: 67ms\n",
            "82:\tlearn: 0.6103309\ttotal: 308ms\tremaining: 63.2ms\n",
            "83:\tlearn: 0.6077413\ttotal: 314ms\tremaining: 59.8ms\n",
            "84:\tlearn: 0.6040171\ttotal: 320ms\tremaining: 56.4ms\n",
            "85:\tlearn: 0.5978969\ttotal: 325ms\tremaining: 52.9ms\n",
            "86:\tlearn: 0.5948514\ttotal: 332ms\tremaining: 49.6ms\n",
            "87:\tlearn: 0.5918211\ttotal: 337ms\tremaining: 45.9ms\n",
            "88:\tlearn: 0.5878231\ttotal: 343ms\tremaining: 42.4ms\n",
            "89:\tlearn: 0.5838982\ttotal: 356ms\tremaining: 39.5ms\n",
            "90:\tlearn: 0.5775074\ttotal: 359ms\tremaining: 35.5ms\n",
            "91:\tlearn: 0.5741746\ttotal: 361ms\tremaining: 31.4ms\n",
            "92:\tlearn: 0.5714572\ttotal: 363ms\tremaining: 27.3ms\n",
            "93:\tlearn: 0.5677933\ttotal: 365ms\tremaining: 23.3ms\n",
            "94:\tlearn: 0.5648839\ttotal: 366ms\tremaining: 19.3ms\n",
            "95:\tlearn: 0.5620534\ttotal: 368ms\tremaining: 15.3ms\n",
            "96:\tlearn: 0.5597553\ttotal: 369ms\tremaining: 11.4ms\n",
            "97:\tlearn: 0.5553696\ttotal: 372ms\tremaining: 7.59ms\n",
            "98:\tlearn: 0.5528695\ttotal: 374ms\tremaining: 3.77ms\n",
            "99:\tlearn: 0.5500005\ttotal: 375ms\tremaining: 0us\n"
          ]
        },
        {
          "output_type": "execute_result",
          "data": {
            "text/plain": [
              "0.6109785202863962"
            ]
          },
          "metadata": {},
          "execution_count": 20
        }
      ]
    },
    {
      "cell_type": "code",
      "source": [
        "cb.fit(X_train_o, y_train_o)\n",
        "cb.score(X_test, y_test)"
      ],
      "metadata": {
        "colab": {
          "base_uri": "https://localhost:8080/"
        },
        "id": "bm_Uyyl43O6s",
        "outputId": "48f89976-6052-4a5f-8a44-007b92ed678e"
      },
      "execution_count": 21,
      "outputs": [
        {
          "output_type": "stream",
          "name": "stdout",
          "text": [
            "Learning rate set to 0.5\n",
            "0:\tlearn: 1.4950878\ttotal: 17.6ms\tremaining: 1.75s\n",
            "1:\tlearn: 1.4244008\ttotal: 32ms\tremaining: 1.57s\n",
            "2:\tlearn: 1.3634333\ttotal: 50.7ms\tremaining: 1.64s\n",
            "3:\tlearn: 1.3183534\ttotal: 72.3ms\tremaining: 1.74s\n",
            "4:\tlearn: 1.2974217\ttotal: 77.8ms\tremaining: 1.48s\n",
            "5:\tlearn: 1.2633202\ttotal: 124ms\tremaining: 1.94s\n",
            "6:\tlearn: 1.2391835\ttotal: 139ms\tremaining: 1.85s\n",
            "7:\tlearn: 1.2076223\ttotal: 153ms\tremaining: 1.76s\n",
            "8:\tlearn: 1.1893189\ttotal: 174ms\tremaining: 1.76s\n",
            "9:\tlearn: 1.1703097\ttotal: 187ms\tremaining: 1.68s\n",
            "10:\tlearn: 1.1474355\ttotal: 206ms\tremaining: 1.67s\n",
            "11:\tlearn: 1.1357901\ttotal: 221ms\tremaining: 1.62s\n",
            "12:\tlearn: 1.1149522\ttotal: 235ms\tremaining: 1.57s\n",
            "13:\tlearn: 1.0960249\ttotal: 249ms\tremaining: 1.53s\n",
            "14:\tlearn: 1.0852466\ttotal: 264ms\tremaining: 1.5s\n",
            "15:\tlearn: 1.0594466\ttotal: 286ms\tremaining: 1.5s\n",
            "16:\tlearn: 1.0451090\ttotal: 297ms\tremaining: 1.45s\n",
            "17:\tlearn: 1.0334318\ttotal: 306ms\tremaining: 1.39s\n",
            "18:\tlearn: 1.0197910\ttotal: 312ms\tremaining: 1.33s\n",
            "19:\tlearn: 1.0031857\ttotal: 318ms\tremaining: 1.27s\n",
            "20:\tlearn: 0.9919809\ttotal: 324ms\tremaining: 1.22s\n",
            "21:\tlearn: 0.9775036\ttotal: 338ms\tremaining: 1.2s\n",
            "22:\tlearn: 0.9690962\ttotal: 352ms\tremaining: 1.18s\n",
            "23:\tlearn: 0.9436610\ttotal: 370ms\tremaining: 1.17s\n",
            "24:\tlearn: 0.9327156\ttotal: 385ms\tremaining: 1.15s\n",
            "25:\tlearn: 0.9100140\ttotal: 406ms\tremaining: 1.16s\n",
            "26:\tlearn: 0.8974077\ttotal: 419ms\tremaining: 1.13s\n",
            "27:\tlearn: 0.8931869\ttotal: 430ms\tremaining: 1.11s\n",
            "28:\tlearn: 0.8845327\ttotal: 445ms\tremaining: 1.09s\n",
            "29:\tlearn: 0.8782292\ttotal: 459ms\tremaining: 1.07s\n",
            "30:\tlearn: 0.8610347\ttotal: 484ms\tremaining: 1.08s\n",
            "31:\tlearn: 0.8552461\ttotal: 508ms\tremaining: 1.08s\n",
            "32:\tlearn: 0.8504040\ttotal: 517ms\tremaining: 1.05s\n",
            "33:\tlearn: 0.8442474\ttotal: 533ms\tremaining: 1.03s\n",
            "34:\tlearn: 0.8354470\ttotal: 547ms\tremaining: 1.01s\n",
            "35:\tlearn: 0.8305899\ttotal: 560ms\tremaining: 995ms\n",
            "36:\tlearn: 0.8208512\ttotal: 574ms\tremaining: 978ms\n",
            "37:\tlearn: 0.8118003\ttotal: 585ms\tremaining: 955ms\n",
            "38:\tlearn: 0.8035811\ttotal: 602ms\tremaining: 942ms\n",
            "39:\tlearn: 0.7985332\ttotal: 624ms\tremaining: 936ms\n",
            "40:\tlearn: 0.7919457\ttotal: 639ms\tremaining: 919ms\n",
            "41:\tlearn: 0.7878968\ttotal: 652ms\tremaining: 901ms\n",
            "42:\tlearn: 0.7813370\ttotal: 668ms\tremaining: 886ms\n",
            "43:\tlearn: 0.7744665\ttotal: 685ms\tremaining: 872ms\n",
            "44:\tlearn: 0.7633161\ttotal: 699ms\tremaining: 854ms\n",
            "45:\tlearn: 0.7527208\ttotal: 715ms\tremaining: 839ms\n",
            "46:\tlearn: 0.7453276\ttotal: 731ms\tremaining: 824ms\n",
            "47:\tlearn: 0.7432935\ttotal: 746ms\tremaining: 808ms\n",
            "48:\tlearn: 0.7378631\ttotal: 761ms\tremaining: 792ms\n",
            "49:\tlearn: 0.7307736\ttotal: 777ms\tremaining: 777ms\n",
            "50:\tlearn: 0.7261420\ttotal: 792ms\tremaining: 761ms\n",
            "51:\tlearn: 0.7195751\ttotal: 809ms\tremaining: 747ms\n",
            "52:\tlearn: 0.7147616\ttotal: 828ms\tremaining: 735ms\n",
            "53:\tlearn: 0.7103185\ttotal: 842ms\tremaining: 717ms\n",
            "54:\tlearn: 0.7049521\ttotal: 857ms\tremaining: 701ms\n",
            "55:\tlearn: 0.7024639\ttotal: 873ms\tremaining: 686ms\n",
            "56:\tlearn: 0.7001883\ttotal: 885ms\tremaining: 668ms\n",
            "57:\tlearn: 0.6939531\ttotal: 902ms\tremaining: 653ms\n",
            "58:\tlearn: 0.6885090\ttotal: 922ms\tremaining: 641ms\n",
            "59:\tlearn: 0.6840669\ttotal: 942ms\tremaining: 628ms\n",
            "60:\tlearn: 0.6801054\ttotal: 949ms\tremaining: 607ms\n",
            "61:\tlearn: 0.6772124\ttotal: 967ms\tremaining: 593ms\n",
            "62:\tlearn: 0.6712749\ttotal: 976ms\tremaining: 573ms\n",
            "63:\tlearn: 0.6695638\ttotal: 998ms\tremaining: 562ms\n",
            "64:\tlearn: 0.6663541\ttotal: 1.01s\tremaining: 543ms\n",
            "65:\tlearn: 0.6646154\ttotal: 1.02s\tremaining: 525ms\n",
            "66:\tlearn: 0.6632492\ttotal: 1.02s\tremaining: 505ms\n",
            "67:\tlearn: 0.6560000\ttotal: 1.03s\tremaining: 486ms\n",
            "68:\tlearn: 0.6484545\ttotal: 1.05s\tremaining: 471ms\n",
            "69:\tlearn: 0.6470950\ttotal: 1.05s\tremaining: 452ms\n",
            "70:\tlearn: 0.6402170\ttotal: 1.06s\tremaining: 433ms\n",
            "71:\tlearn: 0.6345215\ttotal: 1.07s\tremaining: 415ms\n",
            "72:\tlearn: 0.6330101\ttotal: 1.08s\tremaining: 400ms\n",
            "73:\tlearn: 0.6299912\ttotal: 1.09s\tremaining: 383ms\n",
            "74:\tlearn: 0.6271214\ttotal: 1.09s\tremaining: 365ms\n",
            "75:\tlearn: 0.6202531\ttotal: 1.1s\tremaining: 348ms\n",
            "76:\tlearn: 0.6180708\ttotal: 1.12s\tremaining: 333ms\n",
            "77:\tlearn: 0.6153008\ttotal: 1.13s\tremaining: 318ms\n",
            "78:\tlearn: 0.6129438\ttotal: 1.13s\tremaining: 301ms\n",
            "79:\tlearn: 0.6100185\ttotal: 1.14s\tremaining: 285ms\n",
            "80:\tlearn: 0.6073346\ttotal: 1.15s\tremaining: 269ms\n",
            "81:\tlearn: 0.6055827\ttotal: 1.19s\tremaining: 261ms\n",
            "82:\tlearn: 0.6045569\ttotal: 1.22s\tremaining: 250ms\n",
            "83:\tlearn: 0.6023374\ttotal: 1.25s\tremaining: 237ms\n",
            "84:\tlearn: 0.5981454\ttotal: 1.28s\tremaining: 225ms\n",
            "85:\tlearn: 0.5944554\ttotal: 1.29s\tremaining: 210ms\n",
            "86:\tlearn: 0.5930260\ttotal: 1.3s\tremaining: 195ms\n",
            "87:\tlearn: 0.5883993\ttotal: 1.32s\tremaining: 180ms\n",
            "88:\tlearn: 0.5856971\ttotal: 1.33s\tremaining: 165ms\n",
            "89:\tlearn: 0.5833466\ttotal: 1.35s\tremaining: 150ms\n",
            "90:\tlearn: 0.5793770\ttotal: 1.37s\tremaining: 135ms\n",
            "91:\tlearn: 0.5782488\ttotal: 1.38s\tremaining: 120ms\n",
            "92:\tlearn: 0.5725665\ttotal: 1.4s\tremaining: 106ms\n",
            "93:\tlearn: 0.5711020\ttotal: 1.42s\tremaining: 90.4ms\n",
            "94:\tlearn: 0.5682291\ttotal: 1.44s\tremaining: 75.6ms\n",
            "95:\tlearn: 0.5662281\ttotal: 1.46s\tremaining: 60.8ms\n",
            "96:\tlearn: 0.5632129\ttotal: 1.48s\tremaining: 45.8ms\n",
            "97:\tlearn: 0.5614617\ttotal: 1.49s\tremaining: 30.5ms\n",
            "98:\tlearn: 0.5580966\ttotal: 1.51s\tremaining: 15.2ms\n",
            "99:\tlearn: 0.5554262\ttotal: 1.52s\tremaining: 0us\n"
          ]
        },
        {
          "output_type": "execute_result",
          "data": {
            "text/plain": [
              "0.441527446300716"
            ]
          },
          "metadata": {},
          "execution_count": 21
        }
      ]
    },
    {
      "cell_type": "markdown",
      "source": [
        "- lightgbm"
      ],
      "metadata": {
        "id": "_5awnPMU_gfK"
      }
    },
    {
      "cell_type": "code",
      "source": [
        "from lightgbm import LGBMClassifier\n",
        "lgb = LGBMClassifier(random_state=2022)\n",
        "lgb.fit(X_train, y_train)\n",
        "lgb.score(X_test, y_test)"
      ],
      "metadata": {
        "colab": {
          "base_uri": "https://localhost:8080/"
        },
        "id": "173FfMLL_iRw",
        "outputId": "a797bd66-1a16-4919-8488-d2f3632cb569"
      },
      "execution_count": 29,
      "outputs": [
        {
          "output_type": "execute_result",
          "data": {
            "text/plain": [
              "0.6109785202863962"
            ]
          },
          "metadata": {},
          "execution_count": 29
        }
      ]
    },
    {
      "cell_type": "code",
      "source": [
        "lgb.predict(X_test)"
      ],
      "metadata": {
        "colab": {
          "base_uri": "https://localhost:8080/"
        },
        "id": "wdY6qYzHHKF-",
        "outputId": "4f0af535-ce95-4dee-a269-eaaf7d9121fb"
      },
      "execution_count": 30,
      "outputs": [
        {
          "output_type": "execute_result",
          "data": {
            "text/plain": [
              "array([3, 1, 1, 1, 2, 1, 1, 1, 1, 5, 1, 1, 1, 1, 1, 3, 1, 1, 1, 3, 1, 1,\n",
              "       1, 1, 1, 1, 1, 1, 1, 1, 1, 1, 1, 1, 3, 1, 1, 1, 1, 1, 1, 1, 1, 1,\n",
              "       1, 2, 1, 1, 1, 2, 2, 1, 1, 1, 2, 1, 4, 1, 1, 1, 1, 1, 5, 1, 1, 1,\n",
              "       1, 1, 1, 1, 1, 1, 1, 1, 4, 1, 1, 1, 1, 1, 1, 3, 1, 1, 1, 1, 1, 1,\n",
              "       1, 1, 1, 1, 1, 1, 1, 1, 3, 1, 1, 1, 1, 1, 1, 1, 1, 3, 1, 1, 1, 1,\n",
              "       5, 2, 1, 1, 1, 1, 4, 2, 3, 1, 1, 1, 1, 1, 1, 1, 1, 1, 1, 1, 1, 1,\n",
              "       4, 1, 3, 4, 1, 2, 1, 1, 1, 1, 1, 1, 1, 4, 5, 1, 1, 1, 1, 1, 3, 3,\n",
              "       1, 3, 2, 1, 1, 1, 1, 5, 3, 1, 1, 1, 1, 1, 1, 3, 1, 1, 1, 1, 1, 1,\n",
              "       1, 2, 1, 1, 1, 1, 1, 1, 1, 1, 1, 1, 3, 1, 1, 1, 1, 1, 1, 1, 1, 1,\n",
              "       1, 1, 1, 1, 1, 2, 1, 1, 1, 1, 1, 1, 1, 1, 1, 4, 1, 1, 1, 1, 1, 5,\n",
              "       1, 5, 3, 1, 1, 4, 1, 1, 1, 1, 1, 3, 1, 1, 1, 1, 1, 1, 1, 1, 1, 3,\n",
              "       1, 1, 1, 1, 1, 1, 1, 1, 1, 1, 1, 1, 1, 5, 1, 1, 1, 1, 1, 1, 1, 1,\n",
              "       1, 1, 5, 1, 1, 2, 1, 1, 1, 1, 1, 1, 2, 5, 1, 1, 1, 3, 2, 1, 1, 1,\n",
              "       1, 1, 1, 1, 1, 4, 2, 1, 1, 1, 1, 1, 1, 1, 1, 1, 1, 1, 3, 4, 1, 1,\n",
              "       1, 1, 1, 1, 1, 1, 1, 1, 1, 1, 1, 1, 1, 1, 2, 1, 1, 1, 1, 5, 1, 1,\n",
              "       1, 1, 1, 1, 1, 1, 1, 1, 1, 1, 1, 1, 1, 1, 1, 1, 1, 1, 1, 1, 1, 1,\n",
              "       3, 1, 1, 1, 1, 1, 1, 3, 1, 1, 1, 5, 5, 1, 1, 1, 1, 1, 1, 2, 1, 1,\n",
              "       1, 1, 1, 4, 1, 1, 1, 1, 1, 1, 1, 1, 1, 1, 1, 3, 1, 1, 1, 1, 1, 1,\n",
              "       1, 1, 1, 1, 1, 1, 1, 1, 1, 1, 1, 1, 1, 1, 1, 1, 5, 1, 3, 1, 1, 1,\n",
              "       1])"
            ]
          },
          "metadata": {},
          "execution_count": 30
        }
      ]
    },
    {
      "cell_type": "code",
      "source": [
        "lgb.fit(X_train_o, y_train_o)\n",
        "lgb.score(X_test, y_test)"
      ],
      "metadata": {
        "colab": {
          "base_uri": "https://localhost:8080/"
        },
        "id": "lboQuwSkAHYe",
        "outputId": "69fcb665-afa8-4844-ff66-c1b7653f9976"
      },
      "execution_count": 31,
      "outputs": [
        {
          "output_type": "execute_result",
          "data": {
            "text/plain": [
              "0.47494033412887826"
            ]
          },
          "metadata": {},
          "execution_count": 31
        }
      ]
    },
    {
      "cell_type": "code",
      "source": [
        "params = {'num_leaves': (24, 26, 28),\n",
        "          'max_depth': (5, 10, 15),}\n",
        "grid_lgb = GridSearchCV(lgb, params, scoring='accuracy', cv=5)\n",
        "grid_lgb.fit(X_train, y_train)\n",
        "grid_lgb.best_params_"
      ],
      "metadata": {
        "colab": {
          "base_uri": "https://localhost:8080/"
        },
        "id": "G5m7hAqP3XgM",
        "outputId": "6baf0dce-8b63-4e20-860e-83cf66862cba"
      },
      "execution_count": 32,
      "outputs": [
        {
          "output_type": "execute_result",
          "data": {
            "text/plain": [
              "{'max_depth': 5, 'num_leaves': 24}"
            ]
          },
          "metadata": {},
          "execution_count": 32
        }
      ]
    },
    {
      "cell_type": "code",
      "source": [
        "grid_lgb.best_estimator_.score(X_test, y_test)"
      ],
      "metadata": {
        "colab": {
          "base_uri": "https://localhost:8080/"
        },
        "id": "t0s8gVqgCt6q",
        "outputId": "b48054b1-d20d-4166-9722-eca74a92c047"
      },
      "execution_count": 33,
      "outputs": [
        {
          "output_type": "execute_result",
          "data": {
            "text/plain": [
              "0.6348448687350835"
            ]
          },
          "metadata": {},
          "execution_count": 33
        }
      ]
    },
    {
      "cell_type": "code",
      "source": [
        "grid_lgb.predict(X_test)"
      ],
      "metadata": {
        "colab": {
          "base_uri": "https://localhost:8080/"
        },
        "id": "Ykfe_I-NCu8e",
        "outputId": "03f08c27-e85d-4f9a-a0dc-667574dea961"
      },
      "execution_count": 34,
      "outputs": [
        {
          "output_type": "execute_result",
          "data": {
            "text/plain": [
              "array([1, 1, 1, 1, 2, 1, 1, 1, 1, 1, 1, 1, 1, 1, 1, 1, 1, 1, 1, 1, 1, 1,\n",
              "       1, 1, 1, 1, 1, 1, 1, 1, 1, 1, 1, 1, 3, 1, 1, 1, 1, 1, 1, 1, 1, 1,\n",
              "       1, 2, 1, 1, 1, 2, 2, 1, 1, 1, 2, 1, 4, 1, 1, 1, 1, 1, 1, 1, 1, 1,\n",
              "       1, 1, 1, 1, 1, 1, 1, 1, 4, 1, 1, 1, 1, 1, 1, 1, 1, 1, 1, 1, 1, 1,\n",
              "       1, 5, 1, 1, 1, 1, 1, 1, 1, 1, 1, 1, 1, 1, 1, 1, 1, 3, 1, 1, 1, 1,\n",
              "       5, 1, 1, 1, 1, 1, 1, 2, 1, 1, 1, 1, 1, 1, 1, 1, 1, 1, 1, 1, 1, 1,\n",
              "       4, 1, 5, 4, 1, 2, 1, 1, 1, 1, 1, 1, 1, 1, 5, 1, 1, 1, 1, 1, 3, 1,\n",
              "       1, 3, 1, 1, 1, 1, 1, 1, 1, 1, 1, 1, 1, 1, 1, 3, 1, 1, 1, 1, 1, 1,\n",
              "       1, 1, 1, 1, 1, 1, 1, 1, 1, 1, 1, 1, 1, 1, 1, 1, 1, 1, 1, 1, 1, 1,\n",
              "       1, 1, 1, 1, 1, 1, 1, 1, 1, 1, 1, 1, 1, 1, 1, 4, 1, 1, 1, 1, 2, 1,\n",
              "       1, 5, 3, 1, 5, 4, 1, 1, 1, 1, 1, 1, 1, 1, 1, 1, 1, 1, 1, 1, 1, 1,\n",
              "       1, 1, 1, 1, 1, 1, 1, 1, 1, 1, 1, 1, 1, 5, 1, 1, 1, 1, 1, 1, 1, 1,\n",
              "       1, 1, 5, 2, 1, 2, 1, 1, 1, 1, 1, 1, 1, 1, 3, 1, 1, 1, 1, 1, 1, 1,\n",
              "       1, 1, 1, 1, 1, 4, 3, 1, 1, 1, 1, 1, 1, 1, 1, 1, 1, 1, 3, 1, 1, 1,\n",
              "       1, 1, 1, 1, 1, 1, 1, 1, 1, 1, 1, 1, 1, 1, 1, 1, 1, 1, 1, 1, 1, 1,\n",
              "       1, 1, 1, 1, 1, 1, 1, 1, 1, 1, 1, 1, 1, 1, 1, 1, 1, 1, 1, 1, 1, 1,\n",
              "       1, 1, 1, 1, 5, 1, 1, 1, 1, 1, 1, 1, 3, 1, 1, 1, 1, 1, 1, 1, 1, 1,\n",
              "       1, 1, 1, 1, 1, 1, 1, 3, 1, 1, 1, 1, 1, 1, 1, 1, 1, 1, 1, 1, 1, 1,\n",
              "       1, 1, 1, 1, 1, 1, 1, 1, 1, 1, 1, 1, 1, 1, 1, 1, 1, 1, 3, 1, 1, 1,\n",
              "       1])"
            ]
          },
          "metadata": {},
          "execution_count": 34
        }
      ]
    }
  ]
}