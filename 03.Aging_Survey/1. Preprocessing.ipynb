{
  "cells": [
    {
      "cell_type": "code",
      "execution_count": 13,
      "metadata": {
        "id": "v4y5tPeePHm1"
      },
      "outputs": [],
      "source": [
        "import pandas as pd\n",
        "import numpy as np"
      ]
    },
    {
      "cell_type": "code",
      "execution_count": 14,
      "metadata": {
        "colab": {
          "base_uri": "https://localhost:8080/",
          "height": 300
        },
        "id": "tDZpK_K0SlwJ",
        "outputId": "517b48df-ea1d-432c-ce70-2a1d2a3d0255"
      },
      "outputs": [
        {
          "data": {
            "text/html": [
              "<div>\n",
              "<style scoped>\n",
              "    .dataframe tbody tr th:only-of-type {\n",
              "        vertical-align: middle;\n",
              "    }\n",
              "\n",
              "    .dataframe tbody tr th {\n",
              "        vertical-align: top;\n",
              "    }\n",
              "\n",
              "    .dataframe thead th {\n",
              "        text-align: right;\n",
              "    }\n",
              "</style>\n",
              "<table border=\"1\" class=\"dataframe\">\n",
              "  <thead>\n",
              "    <tr style=\"text-align: right;\">\n",
              "      <th></th>\n",
              "      <th>PID</th>\n",
              "      <th>HNO</th>\n",
              "      <th>AREA</th>\n",
              "      <th>EDM</th>\n",
              "      <th>ANS_TYPE</th>\n",
              "      <th>ANS_SUB1</th>\n",
              "      <th>ANS_SUB2</th>\n",
              "      <th>ANS_SUB3</th>\n",
              "      <th>S9_0</th>\n",
              "      <th>S9_2</th>\n",
              "      <th>...</th>\n",
              "      <th>RES_YY</th>\n",
              "      <th>RES_MM</th>\n",
              "      <th>RES_AGE</th>\n",
              "      <th>RES_MAR</th>\n",
              "      <th>RES_EDU1</th>\n",
              "      <th>RES_EDU2</th>\n",
              "      <th>RES_YN</th>\n",
              "      <th>RES_SUB</th>\n",
              "      <th>f_wgt1</th>\n",
              "      <th>s_wgt1</th>\n",
              "    </tr>\n",
              "  </thead>\n",
              "  <tbody>\n",
              "    <tr>\n",
              "      <th>0</th>\n",
              "      <td>7501</td>\n",
              "      <td>1</td>\n",
              "      <td>35</td>\n",
              "      <td>2</td>\n",
              "      <td>0</td>\n",
              "      <td>99</td>\n",
              "      <td>999</td>\n",
              "      <td>1</td>\n",
              "      <td>0</td>\n",
              "      <td>99</td>\n",
              "      <td>...</td>\n",
              "      <td>1952</td>\n",
              "      <td>10</td>\n",
              "      <td>67</td>\n",
              "      <td>1</td>\n",
              "      <td>4</td>\n",
              "      <td>9</td>\n",
              "      <td>1</td>\n",
              "      <td>9</td>\n",
              "      <td>393.325736</td>\n",
              "      <td>0.512734</td>\n",
              "    </tr>\n",
              "    <tr>\n",
              "      <th>1</th>\n",
              "      <td>7601</td>\n",
              "      <td>1</td>\n",
              "      <td>35</td>\n",
              "      <td>2</td>\n",
              "      <td>0</td>\n",
              "      <td>99</td>\n",
              "      <td>999</td>\n",
              "      <td>1</td>\n",
              "      <td>0</td>\n",
              "      <td>99</td>\n",
              "      <td>...</td>\n",
              "      <td>1951</td>\n",
              "      <td>12</td>\n",
              "      <td>68</td>\n",
              "      <td>3</td>\n",
              "      <td>2</td>\n",
              "      <td>0</td>\n",
              "      <td>1</td>\n",
              "      <td>9</td>\n",
              "      <td>393.325736</td>\n",
              "      <td>0.512734</td>\n",
              "    </tr>\n",
              "    <tr>\n",
              "      <th>2</th>\n",
              "      <td>7802</td>\n",
              "      <td>2</td>\n",
              "      <td>23</td>\n",
              "      <td>1</td>\n",
              "      <td>0</td>\n",
              "      <td>99</td>\n",
              "      <td>999</td>\n",
              "      <td>1</td>\n",
              "      <td>1</td>\n",
              "      <td>1</td>\n",
              "      <td>...</td>\n",
              "      <td>1954</td>\n",
              "      <td>3</td>\n",
              "      <td>66</td>\n",
              "      <td>2</td>\n",
              "      <td>5</td>\n",
              "      <td>12</td>\n",
              "      <td>1</td>\n",
              "      <td>9</td>\n",
              "      <td>587.163656</td>\n",
              "      <td>0.765418</td>\n",
              "    </tr>\n",
              "    <tr>\n",
              "      <th>3</th>\n",
              "      <td>7801</td>\n",
              "      <td>1</td>\n",
              "      <td>23</td>\n",
              "      <td>1</td>\n",
              "      <td>0</td>\n",
              "      <td>99</td>\n",
              "      <td>999</td>\n",
              "      <td>1</td>\n",
              "      <td>0</td>\n",
              "      <td>99</td>\n",
              "      <td>...</td>\n",
              "      <td>1954</td>\n",
              "      <td>1</td>\n",
              "      <td>66</td>\n",
              "      <td>2</td>\n",
              "      <td>5</td>\n",
              "      <td>12</td>\n",
              "      <td>1</td>\n",
              "      <td>9</td>\n",
              "      <td>640.643430</td>\n",
              "      <td>0.835133</td>\n",
              "    </tr>\n",
              "    <tr>\n",
              "      <th>4</th>\n",
              "      <td>8001</td>\n",
              "      <td>1</td>\n",
              "      <td>35</td>\n",
              "      <td>1</td>\n",
              "      <td>0</td>\n",
              "      <td>99</td>\n",
              "      <td>999</td>\n",
              "      <td>1</td>\n",
              "      <td>0</td>\n",
              "      <td>99</td>\n",
              "      <td>...</td>\n",
              "      <td>1951</td>\n",
              "      <td>12</td>\n",
              "      <td>68</td>\n",
              "      <td>3</td>\n",
              "      <td>3</td>\n",
              "      <td>6</td>\n",
              "      <td>1</td>\n",
              "      <td>9</td>\n",
              "      <td>493.769927</td>\n",
              "      <td>0.643671</td>\n",
              "    </tr>\n",
              "  </tbody>\n",
              "</table>\n",
              "<p>5 rows × 915 columns</p>\n",
              "</div>"
            ],
            "text/plain": [
              "    PID  HNO  AREA  EDM  ANS_TYPE  ANS_SUB1  ANS_SUB2  ANS_SUB3  S9_0  S9_2  \\\n",
              "0  7501    1    35    2         0        99       999         1     0    99   \n",
              "1  7601    1    35    2         0        99       999         1     0    99   \n",
              "2  7802    2    23    1         0        99       999         1     1     1   \n",
              "3  7801    1    23    1         0        99       999         1     0    99   \n",
              "4  8001    1    35    1         0        99       999         1     0    99   \n",
              "\n",
              "   ...  RES_YY  RES_MM  RES_AGE  RES_MAR  RES_EDU1  RES_EDU2  RES_YN  RES_SUB  \\\n",
              "0  ...    1952      10       67        1         4         9       1        9   \n",
              "1  ...    1951      12       68        3         2         0       1        9   \n",
              "2  ...    1954       3       66        2         5        12       1        9   \n",
              "3  ...    1954       1       66        2         5        12       1        9   \n",
              "4  ...    1951      12       68        3         3         6       1        9   \n",
              "\n",
              "       f_wgt1    s_wgt1  \n",
              "0  393.325736  0.512734  \n",
              "1  393.325736  0.512734  \n",
              "2  587.163656  0.765418  \n",
              "3  640.643430  0.835133  \n",
              "4  493.769927  0.643671  \n",
              "\n",
              "[5 rows x 915 columns]"
            ]
          },
          "execution_count": 14,
          "metadata": {},
          "output_type": "execute_result"
        }
      ],
      "source": [
        "df = pd.read_csv('../Machine_Learning/data/2020년_노인실태조사_ver2.0(최종공개용).csv')\n",
        "# df = df[['RES_SEX','E1_1','RES_EDU1','B1','H16_2']] # 성별 직업지위  교육수준 건강수준  소득수준\n",
        "df.head()"
      ]
    },
    {
      "cell_type": "code",
      "execution_count": 15,
      "metadata": {
        "id": "pTffqdL3Y_x6"
      },
      "outputs": [],
      "source": [
        "df['Gender'] = np.where(df['RES_SEX'] == 1, '남자','여자')"
      ]
    },
    {
      "cell_type": "code",
      "execution_count": 16,
      "metadata": {
        "id": "8jCtk9WmtKOy"
      },
      "outputs": [],
      "source": [
        "df['Job'] = np.where(df['E1_1'].isin([11,12,13,14,15,21,22,23,24,25,26,27,28]),'임금_고숙련',\n",
        "                     np.where(df['E1_1'].isin([31,32,33,39,61,62,63,72,73,74,75,76,77,78,79,81,82,83,84,85,86,87,88,89,100]),'임금_중숙련',\n",
        "                              np.where(df['E1_1'].isin([41,42,43,44,51,52,53,91,92,93,94,95,99]),'임금_저숙련',\n",
        "                                       np.where(df['E1_3'].isin([3,4]),'자영업',\n",
        "                                                np.where(df['E1_3']==6 ,'무급가족종사자',\n",
        "                                                         np.where(df['E1']==2, '은퇴',\n",
        "                                                                  np.where(df['E1_1']==999,'비경활',np.nan)))))))\n",
        "                                       "
      ]
    },
    {
      "cell_type": "code",
      "execution_count": 17,
      "metadata": {
        "id": "RoS9lIU4ZYrl"
      },
      "outputs": [],
      "source": [
        "df['Edu'] = np.where(df['RES_EDU1'] >= 6 , '대학교 이상',\n",
        "                    np.where(df['RES_EDU1']== 5, '고등',\n",
        "                              np.where(df['RES_EDU1']== 4, '중등','초등'\n",
        "                    )))"
      ]
    },
    {
      "cell_type": "code",
      "execution_count": 18,
      "metadata": {
        "id": "WtMH0NVbYmbA"
      },
      "outputs": [],
      "source": [
        "df['Health'] = np.where(df['B1'].isin([1,2,9]), '전혀 지장 없음',\n",
        "                        np.where(df['B1'].isin([4,5]),'활동에 제한 있음', '그렇지 않은 편'\n",
        "                        ))"
      ]
    },
    {
      "cell_type": "code",
      "execution_count": 19,
      "metadata": {
        "id": "qlnE9qOMyMbl"
      },
      "outputs": [],
      "source": [
        "df['Earn'] = pd.qcut(df['J3b_3_13'], 3, labels=['하', '중', '상'])"
      ]
    },
    {
      "cell_type": "code",
      "execution_count": 20,
      "metadata": {
        "id": "4ThzDts0mDJa"
      },
      "outputs": [],
      "source": [
        "df = df[['Gender','Job','Edu','Health','Earn']]"
      ]
    },
    {
      "cell_type": "code",
      "execution_count": 21,
      "metadata": {
        "colab": {
          "base_uri": "https://localhost:8080/",
          "height": 206
        },
        "id": "9kaimAD-oIbb",
        "outputId": "b40c8a22-66a1-4d0b-a360-4fbe206047ae"
      },
      "outputs": [
        {
          "data": {
            "text/html": [
              "<div>\n",
              "<style scoped>\n",
              "    .dataframe tbody tr th:only-of-type {\n",
              "        vertical-align: middle;\n",
              "    }\n",
              "\n",
              "    .dataframe tbody tr th {\n",
              "        vertical-align: top;\n",
              "    }\n",
              "\n",
              "    .dataframe thead th {\n",
              "        text-align: right;\n",
              "    }\n",
              "</style>\n",
              "<table border=\"1\" class=\"dataframe\">\n",
              "  <thead>\n",
              "    <tr style=\"text-align: right;\">\n",
              "      <th></th>\n",
              "      <th>Gender</th>\n",
              "      <th>Job</th>\n",
              "      <th>Edu</th>\n",
              "      <th>Health</th>\n",
              "      <th>Earn</th>\n",
              "    </tr>\n",
              "  </thead>\n",
              "  <tbody>\n",
              "    <tr>\n",
              "      <th>0</th>\n",
              "      <td>여자</td>\n",
              "      <td>임금_저숙련</td>\n",
              "      <td>중등</td>\n",
              "      <td>전혀 지장 없음</td>\n",
              "      <td>중</td>\n",
              "    </tr>\n",
              "    <tr>\n",
              "      <th>1</th>\n",
              "      <td>여자</td>\n",
              "      <td>임금_중숙련</td>\n",
              "      <td>초등</td>\n",
              "      <td>전혀 지장 없음</td>\n",
              "      <td>중</td>\n",
              "    </tr>\n",
              "    <tr>\n",
              "      <th>2</th>\n",
              "      <td>여자</td>\n",
              "      <td>임금_고숙련</td>\n",
              "      <td>고등</td>\n",
              "      <td>전혀 지장 없음</td>\n",
              "      <td>상</td>\n",
              "    </tr>\n",
              "    <tr>\n",
              "      <th>3</th>\n",
              "      <td>남자</td>\n",
              "      <td>임금_중숙련</td>\n",
              "      <td>고등</td>\n",
              "      <td>전혀 지장 없음</td>\n",
              "      <td>상</td>\n",
              "    </tr>\n",
              "    <tr>\n",
              "      <th>4</th>\n",
              "      <td>여자</td>\n",
              "      <td>임금_저숙련</td>\n",
              "      <td>초등</td>\n",
              "      <td>그렇지 않은 편</td>\n",
              "      <td>하</td>\n",
              "    </tr>\n",
              "  </tbody>\n",
              "</table>\n",
              "</div>"
            ],
            "text/plain": [
              "  Gender     Job Edu    Health Earn\n",
              "0     여자  임금_저숙련  중등  전혀 지장 없음    중\n",
              "1     여자  임금_중숙련  초등  전혀 지장 없음    중\n",
              "2     여자  임금_고숙련  고등  전혀 지장 없음    상\n",
              "3     남자  임금_중숙련  고등  전혀 지장 없음    상\n",
              "4     여자  임금_저숙련  초등  그렇지 않은 편    하"
            ]
          },
          "execution_count": 21,
          "metadata": {},
          "output_type": "execute_result"
        }
      ],
      "source": [
        "df.head()"
      ]
    },
    {
      "cell_type": "code",
      "execution_count": 22,
      "metadata": {},
      "outputs": [
        {
          "data": {
            "text/plain": [
              "Gender    0\n",
              "Job       0\n",
              "Edu       0\n",
              "Health    0\n",
              "Earn      0\n",
              "dtype: int64"
            ]
          },
          "execution_count": 22,
          "metadata": {},
          "output_type": "execute_result"
        }
      ],
      "source": [
        "df.isna().sum()"
      ]
    },
    {
      "cell_type": "code",
      "execution_count": 23,
      "metadata": {
        "id": "8Mz4GrsSl9QJ"
      },
      "outputs": [],
      "source": [
        "df.to_csv('./data/노인실태조사_전처리.csv', encoding='utf-8', index=False)"
      ]
    },
    {
      "cell_type": "code",
      "execution_count": null,
      "metadata": {},
      "outputs": [],
      "source": []
    }
  ],
  "metadata": {
    "colab": {
      "collapsed_sections": [],
      "name": "노인실태조사 전처리.ipynb",
      "provenance": []
    },
    "interpreter": {
      "hash": "68756eb6c044f31c46e3e1f38723aea1f0146198488dd3d60c0e4241eb6f7dd0"
    },
    "kernelspec": {
      "display_name": "Python 3.8.8 ('base')",
      "language": "python",
      "name": "python3"
    },
    "language_info": {
      "codemirror_mode": {
        "name": "ipython",
        "version": 3
      },
      "file_extension": ".py",
      "mimetype": "text/x-python",
      "name": "python",
      "nbconvert_exporter": "python",
      "pygments_lexer": "ipython3",
      "version": "3.8.8"
    }
  },
  "nbformat": 4,
  "nbformat_minor": 0
}
