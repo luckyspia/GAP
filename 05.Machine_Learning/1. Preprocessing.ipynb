{
 "cells": [
  {
   "cell_type": "markdown",
   "metadata": {},
   "source": [
    "#### Import Library"
   ]
  },
  {
   "cell_type": "code",
   "execution_count": 1,
   "metadata": {},
   "outputs": [],
   "source": [
    "import pandas as pd\n",
    "import numpy as np\n",
    "import matplotlib.pyplot as plt\n",
    "%matplotlib inline"
   ]
  },
  {
   "cell_type": "code",
   "execution_count": 2,
   "metadata": {},
   "outputs": [
    {
     "data": {
      "text/html": [
       "<div>\n",
       "<style scoped>\n",
       "    .dataframe tbody tr th:only-of-type {\n",
       "        vertical-align: middle;\n",
       "    }\n",
       "\n",
       "    .dataframe tbody tr th {\n",
       "        vertical-align: top;\n",
       "    }\n",
       "\n",
       "    .dataframe thead th {\n",
       "        text-align: right;\n",
       "    }\n",
       "</style>\n",
       "<table border=\"1\" class=\"dataframe\">\n",
       "  <thead>\n",
       "    <tr style=\"text-align: right;\">\n",
       "      <th></th>\n",
       "      <th>PID</th>\n",
       "      <th>HNO</th>\n",
       "      <th>AREA</th>\n",
       "      <th>EDM</th>\n",
       "      <th>ANS_TYPE</th>\n",
       "      <th>ANS_SUB1</th>\n",
       "      <th>ANS_SUB2</th>\n",
       "      <th>ANS_SUB3</th>\n",
       "      <th>S9_0</th>\n",
       "      <th>S9_2</th>\n",
       "      <th>...</th>\n",
       "      <th>RES_YY</th>\n",
       "      <th>RES_MM</th>\n",
       "      <th>RES_AGE</th>\n",
       "      <th>RES_MAR</th>\n",
       "      <th>RES_EDU1</th>\n",
       "      <th>RES_EDU2</th>\n",
       "      <th>RES_YN</th>\n",
       "      <th>RES_SUB</th>\n",
       "      <th>f_wgt1</th>\n",
       "      <th>s_wgt1</th>\n",
       "    </tr>\n",
       "  </thead>\n",
       "  <tbody>\n",
       "    <tr>\n",
       "      <th>0</th>\n",
       "      <td>7501</td>\n",
       "      <td>1</td>\n",
       "      <td>35</td>\n",
       "      <td>2</td>\n",
       "      <td>0</td>\n",
       "      <td>99</td>\n",
       "      <td>999</td>\n",
       "      <td>1</td>\n",
       "      <td>0</td>\n",
       "      <td>99</td>\n",
       "      <td>...</td>\n",
       "      <td>1952</td>\n",
       "      <td>10</td>\n",
       "      <td>67</td>\n",
       "      <td>1</td>\n",
       "      <td>4</td>\n",
       "      <td>9</td>\n",
       "      <td>1</td>\n",
       "      <td>9</td>\n",
       "      <td>393.325736</td>\n",
       "      <td>0.512734</td>\n",
       "    </tr>\n",
       "    <tr>\n",
       "      <th>1</th>\n",
       "      <td>7601</td>\n",
       "      <td>1</td>\n",
       "      <td>35</td>\n",
       "      <td>2</td>\n",
       "      <td>0</td>\n",
       "      <td>99</td>\n",
       "      <td>999</td>\n",
       "      <td>1</td>\n",
       "      <td>0</td>\n",
       "      <td>99</td>\n",
       "      <td>...</td>\n",
       "      <td>1951</td>\n",
       "      <td>12</td>\n",
       "      <td>68</td>\n",
       "      <td>3</td>\n",
       "      <td>2</td>\n",
       "      <td>0</td>\n",
       "      <td>1</td>\n",
       "      <td>9</td>\n",
       "      <td>393.325736</td>\n",
       "      <td>0.512734</td>\n",
       "    </tr>\n",
       "    <tr>\n",
       "      <th>2</th>\n",
       "      <td>7802</td>\n",
       "      <td>2</td>\n",
       "      <td>23</td>\n",
       "      <td>1</td>\n",
       "      <td>0</td>\n",
       "      <td>99</td>\n",
       "      <td>999</td>\n",
       "      <td>1</td>\n",
       "      <td>1</td>\n",
       "      <td>1</td>\n",
       "      <td>...</td>\n",
       "      <td>1954</td>\n",
       "      <td>3</td>\n",
       "      <td>66</td>\n",
       "      <td>2</td>\n",
       "      <td>5</td>\n",
       "      <td>12</td>\n",
       "      <td>1</td>\n",
       "      <td>9</td>\n",
       "      <td>587.163656</td>\n",
       "      <td>0.765418</td>\n",
       "    </tr>\n",
       "    <tr>\n",
       "      <th>3</th>\n",
       "      <td>7801</td>\n",
       "      <td>1</td>\n",
       "      <td>23</td>\n",
       "      <td>1</td>\n",
       "      <td>0</td>\n",
       "      <td>99</td>\n",
       "      <td>999</td>\n",
       "      <td>1</td>\n",
       "      <td>0</td>\n",
       "      <td>99</td>\n",
       "      <td>...</td>\n",
       "      <td>1954</td>\n",
       "      <td>1</td>\n",
       "      <td>66</td>\n",
       "      <td>2</td>\n",
       "      <td>5</td>\n",
       "      <td>12</td>\n",
       "      <td>1</td>\n",
       "      <td>9</td>\n",
       "      <td>640.643430</td>\n",
       "      <td>0.835133</td>\n",
       "    </tr>\n",
       "    <tr>\n",
       "      <th>4</th>\n",
       "      <td>8001</td>\n",
       "      <td>1</td>\n",
       "      <td>35</td>\n",
       "      <td>1</td>\n",
       "      <td>0</td>\n",
       "      <td>99</td>\n",
       "      <td>999</td>\n",
       "      <td>1</td>\n",
       "      <td>0</td>\n",
       "      <td>99</td>\n",
       "      <td>...</td>\n",
       "      <td>1951</td>\n",
       "      <td>12</td>\n",
       "      <td>68</td>\n",
       "      <td>3</td>\n",
       "      <td>3</td>\n",
       "      <td>6</td>\n",
       "      <td>1</td>\n",
       "      <td>9</td>\n",
       "      <td>493.769927</td>\n",
       "      <td>0.643671</td>\n",
       "    </tr>\n",
       "  </tbody>\n",
       "</table>\n",
       "<p>5 rows × 915 columns</p>\n",
       "</div>"
      ],
      "text/plain": [
       "    PID  HNO  AREA  EDM  ANS_TYPE  ANS_SUB1  ANS_SUB2  ANS_SUB3  S9_0  S9_2  \\\n",
       "0  7501    1    35    2         0        99       999         1     0    99   \n",
       "1  7601    1    35    2         0        99       999         1     0    99   \n",
       "2  7802    2    23    1         0        99       999         1     1     1   \n",
       "3  7801    1    23    1         0        99       999         1     0    99   \n",
       "4  8001    1    35    1         0        99       999         1     0    99   \n",
       "\n",
       "   ...  RES_YY  RES_MM  RES_AGE  RES_MAR  RES_EDU1  RES_EDU2  RES_YN  RES_SUB  \\\n",
       "0  ...    1952      10       67        1         4         9       1        9   \n",
       "1  ...    1951      12       68        3         2         0       1        9   \n",
       "2  ...    1954       3       66        2         5        12       1        9   \n",
       "3  ...    1954       1       66        2         5        12       1        9   \n",
       "4  ...    1951      12       68        3         3         6       1        9   \n",
       "\n",
       "       f_wgt1    s_wgt1  \n",
       "0  393.325736  0.512734  \n",
       "1  393.325736  0.512734  \n",
       "2  587.163656  0.765418  \n",
       "3  640.643430  0.835133  \n",
       "4  493.769927  0.643671  \n",
       "\n",
       "[5 rows x 915 columns]"
      ]
     },
     "execution_count": 2,
     "metadata": {},
     "output_type": "execute_result"
    }
   ],
   "source": [
    "data = pd.read_csv('./data/2020년_노인실태조사_ver2.0(최종공개용).csv')\n",
    "data.head()"
   ]
  },
  {
   "cell_type": "markdown",
   "metadata": {},
   "source": [
    "#### Data Preprocessing"
   ]
  },
  {
   "cell_type": "code",
   "execution_count": 3,
   "metadata": {},
   "outputs": [],
   "source": [
    "# 성별 (0: 여자, 1: 남자)\n",
    "data['Gender'] = np.where(data['RES_SEX'] == 1, 1, 0)\n",
    "\n",
    "# 연령, 종교\n",
    "data.rename(columns={'RES_AGE':'Age', 'D8':'Religion'}, inplace=True)\n",
    "\n",
    "# 직업 (0: 비경활, 1: 은퇴, 2: 임금_저숙련, 3: 임금_중숙련, 4: 임금_고숙련, 5: 자영업, 6: 무급가족종사자)\n",
    "data['Job'] = np.where(data['E1_1'].isin([11,12,13,14,15,21,22,23,24,25,26,27,28]), 4,\n",
    "                     np.where(data['E1_1'].isin([31,32,33,39,61,62,63,72,73,74,75,76,77,78,79,81,82,83,84,85,86,87,88,89,100]), 3,\n",
    "                              np.where(data['E1_1'].isin([41,42,43,44,51,52,53,91,92,93,94,95,99]), 2,\n",
    "                                       np.where(data['E1_3'].isin([3,4]), 5,\n",
    "                                                np.where(data['E1_3']==6 , 6,\n",
    "                                                         np.where(data['E1']==2, 1,\n",
    "                                                                  np.where(data['E1_1']==999, 0,np.nan)))))))\n",
    "\n",
    "# 혼인상태 (0: 미혼, 1: 기혼)\n",
    "data['RES_MAR'].replace([1, 3, 4, 5], 0, inplace=True)\n",
    "data['RES_MAR'].replace(2, 1, inplace=True)\n",
    "data['Married'] = data['RES_MAR']\n",
    "\n",
    "# 교육 (0: 초등, 1: 중등, 2: 고등, 3: 대학교 이상)\n",
    "data['Edu'] = np.where(data['RES_EDU1'] >= 6 , 3,\n",
    "                    np.where(data['RES_EDU1']== 5, 2,\n",
    "                              np.where(data['RES_EDU1']== 4, 1, 0)))\n",
    "\n",
    "# 건강 (0: 활동에 제한 있음, 1: 그렇지 않은 편, 2: 전혀 지장없음)\n",
    "data['Health'] = np.where(data['B1']<3, 2,\n",
    "                        np.where(data['B1']==3, 1, 0))\n",
    "\n",
    "# 만족도 (0: 하, 1: 중, 2: 상)\n",
    "data['H16_1'].replace(9,0, inplace=True)\n",
    "data['H16_2'].replace(9,0, inplace=True)\n",
    "data['H16_3'].replace(9,0, inplace=True)\n",
    "data['H16_4'].replace(9,0, inplace=True)\n",
    "data['H16_7'].replace(9,0, inplace=True)\n",
    "\n",
    "data['Self_conf_Score'] = data['H16_1'] + data['H16_2']+ data['H16_3'] + data['H16_4'] + data['H16_7']\n",
    "\n",
    "data['Self_conf'] = pd.qcut(data['Self_conf_Score'], 3, labels=['하','중','상'])\n",
    "data['Self_conf'] = np.where(data['Self_conf'] == '하', 0,\n",
    "                        np.where(data['Self_conf'] == '중', 1, 2))\n",
    "\n",
    "# 소득 (0: 하, 1: 중, 2: 상)\n",
    "data['J3b_3_13'].replace(999998,0)\n",
    "data['J3b_3_13'].replace(999999,0)\n",
    "\n",
    "data['Earn'] = pd.qcut(data['J3b_3_13'], 3, labels=['하', '중', '상'])\n",
    "data['Earn'] = np.where(data['Earn'] == '하', 0,\n",
    "                    np.where(data['Earn'] == '중', 1, 2))\n",
    "\n",
    "# 지난 1년간 시설 이용 여부 (0: 이용경험 없음, 1: 이용경험 있음)\n",
    "# D11_1_1; 경로당, D11_1_2; 노인복지관, D11_1_3; 종합복지관, D11_1_4;노인교실, D11_1_5;공공 여가문화시설, D11_1_6; 민간 문화시설\n",
    "data['D11_1_1'].replace(2,0, inplace=True)\n",
    "data['D11_1_2'].replace(2,0, inplace=True)\n",
    "data['D11_1_3'].replace(2,0, inplace=True)\n",
    "data['D11_1_4'].replace(2,0, inplace=True)\n",
    "data['D11_1_5'].replace(2,0, inplace=True)\n",
    "data['D11_1_6'].replace(2,0, inplace=True)\n",
    "\n",
    "data['Activity'] = data['D11_1_1'] + data['D11_1_2'] + data['D11_1_3'] + data['D11_1_4'] + data['D11_1_5'] + data['D11_1_6']\n",
    "\n",
    "# 향후 일하고 싶은 노인 일자리 유형 (Target)\n",
    "data['target']= data['E5_1']"
   ]
  },
  {
   "cell_type": "code",
   "execution_count": 4,
   "metadata": {},
   "outputs": [],
   "source": [
    "data = data[data['Age'] >= 69]\n",
    "data = data[['Gender','Age','Religion','Job','Married','Edu', 'Health', 'Self_conf', 'Earn', 'Activity', 'target']]"
   ]
  },
  {
   "cell_type": "code",
   "execution_count": 5,
   "metadata": {},
   "outputs": [
    {
     "name": "stdout",
     "output_type": "stream",
     "text": [
      "<class 'pandas.core.frame.DataFrame'>\n",
      "Int64Index: 7147 entries, 5 to 10076\n",
      "Data columns (total 11 columns):\n",
      " #   Column     Non-Null Count  Dtype  \n",
      "---  ------     --------------  -----  \n",
      " 0   Gender     7147 non-null   int32  \n",
      " 1   Age        7147 non-null   int64  \n",
      " 2   Religion   7147 non-null   int64  \n",
      " 3   Job        7138 non-null   float64\n",
      " 4   Married    7147 non-null   int64  \n",
      " 5   Edu        7147 non-null   int32  \n",
      " 6   Health     7147 non-null   int32  \n",
      " 7   Self_conf  7147 non-null   int32  \n",
      " 8   Earn       7147 non-null   int32  \n",
      " 9   Activity   7147 non-null   int64  \n",
      " 10  target     7147 non-null   int64  \n",
      "dtypes: float64(1), int32(5), int64(5)\n",
      "memory usage: 530.4 KB\n",
      "None\n"
     ]
    },
    {
     "data": {
      "text/plain": [
       "Gender       0\n",
       "Age          0\n",
       "Religion     0\n",
       "Job          9\n",
       "Married      0\n",
       "Edu          0\n",
       "Health       0\n",
       "Self_conf    0\n",
       "Earn         0\n",
       "Activity     0\n",
       "target       0\n",
       "dtype: int64"
      ]
     },
     "execution_count": 5,
     "metadata": {},
     "output_type": "execute_result"
    }
   ],
   "source": [
    "print(data.info())\n",
    "data.isna().sum()"
   ]
  },
  {
   "cell_type": "code",
   "execution_count": 6,
   "metadata": {},
   "outputs": [],
   "source": [
    "data.dropna(inplace=True)"
   ]
  },
  {
   "cell_type": "code",
   "execution_count": 7,
   "metadata": {},
   "outputs": [
    {
     "name": "stdout",
     "output_type": "stream",
     "text": [
      "<class 'pandas.core.frame.DataFrame'>\n",
      "Int64Index: 1531 entries, 5 to 10071\n",
      "Data columns (total 11 columns):\n",
      " #   Column     Non-Null Count  Dtype  \n",
      "---  ------     --------------  -----  \n",
      " 0   Gender     1531 non-null   int32  \n",
      " 1   Age        1531 non-null   int64  \n",
      " 2   Religion   1531 non-null   int64  \n",
      " 3   Job        1531 non-null   float64\n",
      " 4   Married    1531 non-null   int64  \n",
      " 5   Edu        1531 non-null   int32  \n",
      " 6   Health     1531 non-null   int32  \n",
      " 7   Self_conf  1531 non-null   int32  \n",
      " 8   Earn       1531 non-null   int32  \n",
      " 9   Activity   1531 non-null   int64  \n",
      " 10  target     1531 non-null   int64  \n",
      "dtypes: float64(1), int32(5), int64(5)\n",
      "memory usage: 113.6 KB\n"
     ]
    }
   ],
   "source": [
    "index = data[data[\"Age\"]==999].index\n",
    "data.drop(index, inplace=True)\n",
    "\n",
    "index = data[data[\"target\"]==9].index\n",
    "data.drop(index, inplace=True)\n",
    "\n",
    "data.info() "
   ]
  },
  {
   "cell_type": "code",
   "execution_count": 8,
   "metadata": {},
   "outputs": [
    {
     "data": {
      "text/plain": [
       "(1531, 11)"
      ]
     },
     "execution_count": 8,
     "metadata": {},
     "output_type": "execute_result"
    }
   ],
   "source": [
    "data.shape"
   ]
  },
  {
   "cell_type": "code",
   "execution_count": 9,
   "metadata": {},
   "outputs": [
    {
     "data": {
      "text/plain": [
       "1    779\n",
       "0    752\n",
       "Name: Married, dtype: int64"
      ]
     },
     "execution_count": 9,
     "metadata": {},
     "output_type": "execute_result"
    }
   ],
   "source": [
    "data.Married.value_counts()"
   ]
  },
  {
   "cell_type": "code",
   "execution_count": 10,
   "metadata": {},
   "outputs": [],
   "source": [
    "data.to_csv('./data/Elderly.csv', encoding='utf-8', index=False)"
   ]
  }
 ],
 "metadata": {
  "interpreter": {
   "hash": "68756eb6c044f31c46e3e1f38723aea1f0146198488dd3d60c0e4241eb6f7dd0"
  },
  "kernelspec": {
   "display_name": "Python 3.8.8 ('base')",
   "language": "python",
   "name": "python3"
  },
  "language_info": {
   "codemirror_mode": {
    "name": "ipython",
    "version": 3
   },
   "file_extension": ".py",
   "mimetype": "text/x-python",
   "name": "python",
   "nbconvert_exporter": "python",
   "pygments_lexer": "ipython3",
   "version": "3.8.8"
  },
  "orig_nbformat": 4
 },
 "nbformat": 4,
 "nbformat_minor": 2
}
